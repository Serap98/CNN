{
  "cells": [
    {
      "cell_type": "markdown",
      "metadata": {
        "id": "view-in-github",
        "colab_type": "text"
      },
      "source": [
        "<a href=\"https://colab.research.google.com/github/Serap98/CNN/blob/main/Untitled0.ipynb\" target=\"_parent\"><img src=\"https://colab.research.google.com/assets/colab-badge.svg\" alt=\"Open In Colab\"/></a>"
      ]
    },
    {
      "cell_type": "code",
      "execution_count": null,
      "metadata": {
        "colab": {
          "base_uri": "https://localhost:8080/"
        },
        "id": "zPrvJHKS7L2K",
        "outputId": "d149b0ae-5053-4b4d-cfbb-c60cb5324604"
      },
      "outputs": [
        {
          "output_type": "stream",
          "name": "stdout",
          "text": [
            "Mounted at /content/gdrive/\n",
            "/content/gdrive/MyDrive\n"
          ]
        }
      ],
      "source": [
        "from google.colab import drive\n",
        "from pathlib import Path\n",
        "import os\n",
        "\n",
        "\n",
        "drive.mount('/content/gdrive/', force_remount=True)\n",
        "\n",
        "os.getcwd()\n",
        "os.chdir('gdrive/MyDrive')\n",
        "print(os.getcwd())"
      ]
    },
    {
      "cell_type": "code",
      "execution_count": null,
      "metadata": {
        "id": "TlINwkdB7y0G"
      },
      "outputs": [],
      "source": [
        "import pandas as pd\n",
        "\n",
        "# reading data\n",
        "\n",
        "def read_dataframes(main_folder, take_datasets=-1):\n",
        "  # taking only 5 datasets\n",
        "  list_of_names = []\n",
        "  df_list = []\n",
        "  data_folders = os.listdir(main_folder)\n",
        "  for f in data_folders[:take_datasets]:\n",
        "    path_to_file = f'{main_folder}/{f}'\n",
        "    df = pd.read_csv(path_to_file)\n",
        "    df.fillna(df.mean(), inplace=True)\n",
        "    df_list.append(df)\n",
        "    list_of_names.append(f)\n",
        "  return df_list, list_of_names\n",
        "\n",
        "main_train_folder = 'processed_data/train'\n",
        "main_test_folder = 'processed_data/test'\n",
        "train_data_list, train_name_list = read_dataframes(main_train_folder)\n",
        "test_data_list, test_name_list = read_dataframes(main_test_folder)"
      ]
    },
    {
      "cell_type": "code",
      "execution_count": null,
      "metadata": {
        "id": "tB1L6c4tq97a"
      },
      "outputs": [],
      "source": [
        "import numpy as np\n",
        "\n",
        "def splitting_data(df, take_time_stamps=50):\n",
        "  vals = df.values\n",
        "  vals_shape = vals.shape\n",
        "  if vals_shape[1] >= take_time_stamps*2:take_time_stamps\n",
        "    el_l = [np.array([rows[j*:take_time_stamps*(j+1)] for j in range(len(rows) // take_time_stamps-1)]) for rows in vals]\n",
        "  elif vals_shape[1] < take_time_stamps*2 and vals_shape[1] >= take_time_stamps:\n",
        "    el_l = [np.array([rows[j*take_time_stamps:take_time_stamps*(j+1)] for j in range(len(rows) // take_time_stamps)]) for rows in vals]\n",
        "  else:\n",
        "    print(f'WTF {vals_shape}')\n",
        "  #lse:\n",
        "  #  el_l = [[np.array(list(rows) + [0] * (take_time_stamps-len(rows)))] for rows in vals]\n",
        "  el_l = np.array(el_l)\n",
        "  dims = el_l.shape\n",
        "  a = el_l.reshape(dims[0] * dims[1], dims[2], 1)\n",
        "  return a\n",
        "\n",
        "def split_all_data(df_list, name_list, take_time_stamps=50):\n",
        "  result_list, result_name_list = [], []\n",
        "  for df, name in zip(df_list, name_list):\n",
        "    if df.shape[1] >= take_time_stamps:\n",
        "      re = splitting_data(df, take_time_stamps=take_time_stamps)\n",
        "      res_len = len(re)\n",
        "      namess = res_len * [name]\n",
        "      result_name_list.extend(namess)\n",
        "      result_list.extend(re)\n",
        "  return result_list, result_name_list\n",
        "\n",
        "def deal_with_nan(df):\n",
        "  df.fillna(df.mean(), inplace = True)"
      ]
    },
    {
      "cell_type": "code",
      "source": [
        "train_data, train_data_names = split_all_data(train_data_list, train_name_list, take_time_stamps=128)\n",
        "test_data, test_data_names = split_all_data(test_data_list, test_name_list, take_time_stamps=128)\n"
      ],
      "metadata": {
        "id": "E6AIjJQ_NoPU"
      },
      "execution_count": null,
      "outputs": []
    },
    {
      "cell_type": "code",
      "source": [
        "np.array(train_data).shape\n",
        "train_data = np.array(train_data)\n",
        "test_data = np.array(test_data)"
      ],
      "metadata": {
        "id": "Kkmd48cFUkj8"
      },
      "execution_count": null,
      "outputs": []
    },
    {
      "cell_type": "code",
      "execution_count": null,
      "metadata": {
        "id": "C67TZwkdNLJh"
      },
      "outputs": [],
      "source": [
        "import numpy as np\n",
        "\n",
        "def convert_data_to_arrays(data_list):\n",
        "  df = pd.DataFrame()\n",
        "  for d in data_list:\n",
        "    df = df.append(d, ignore_index=True)\n",
        "  return df\n",
        "\n",
        "#train_data = convert_data_to_arrays(train_data_list)\n",
        "#test_data = convert_data_to_arrays(test_datal_list)\n",
        "#take_time_step = 100\n",
        "#temp_splitting_data_fun = lambda x: splitting_data(x, take_time_step)\n",
        "#train_data = np.array(list(map(temp_splitting_data_fun, train_data_list)))\n",
        "#test_data = np.array(list(map(temp_splitting_data_fun, test_datal_list)))"
      ]
    },
    {
      "cell_type": "code",
      "execution_count": null,
      "metadata": {
        "colab": {
          "base_uri": "https://localhost:8080/"
        },
        "id": "uv-VauAX-PLT",
        "outputId": "af7c45f0-9c20-4bbb-c57e-8a399987a7a6"
      },
      "outputs": [
        {
          "output_type": "stream",
          "name": "stdout",
          "text": [
            "{'SemgHandSubjectCh2.csv', 'UMD.csv', 'Computers.csv', 'ACSF1.csv', 'ProximalPhalanxTW.csv', 'ECG5000.csv', 'SonyAIBORobotSurface2.csv', 'FordA.csv', 'StarLightCurves.csv', 'PowerCons.csv', 'MelbournePedestrian.csv', 'DiatomSizeReduction.csv', 'TwoPatterns.csv', 'PhalangesOutlinesCorrect.csv', 'PigAirwayPressure.csv', 'AllGestureWiimoteY.csv', 'Worms.csv', 'DodgerLoopWeekend.csv', 'TwoLeadECG.csv', 'CinCECGTorso.csv', 'UWaveGestureLibraryZ.csv', 'MixedShapesRegularTrain.csv', 'ShapeletSim.csv', 'GestureMidAirD1.csv', 'Symbols.csv', 'Wafer.csv', 'PigArtPressure.csv', 'FreezerSmallTrain.csv', 'SmoothSubspace.csv', 'SemgHandGenderCh2.csv', 'LargeKitchenAppliances.csv', 'ECGFiveDays.csv', 'GestureMidAirD2.csv', 'GesturePebbleZ1.csv', 'Lightning2.csv', 'Adiac.csv', 'GesturePebbleZ2.csv', 'Ham.csv', 'EOGHorizontalSignal.csv', 'FacesUCR.csv', 'ToeSegmentation2.csv', 'FaceFour.csv', 'FreezerRegularTrain.csv', 'Meat.csv', 'Plane.csv', 'CBF.csv', 'InlineSkate.csv', 'OliveOil.csv', 'BeetleFly.csv', 'RefrigerationDevices.csv', 'Chinatown.csv', 'ShakeGestureWiimoteZ.csv', 'SwedishLeaf.csv', 'ProximalPhalanxOutlineCorrect.csv', 'Trace.csv', 'Earthquakes.csv', 'Haptics.csv', 'FaceAll.csv', 'MiddlePhalanxTW.csv', 'InsectEPGRegularTrain.csv', 'Wine.csv', 'GunPointOldVersusYoung.csv', 'MixedShapesSmallTrain.csv', 'Coffee.csv', 'UWaveGestureLibraryAll.csv', 'PLAID.csv', 'UWaveGestureLibraryX.csv', 'PigCVP.csv', 'Fish.csv', 'SemgHandMovementCh2.csv', 'DodgerLoopGame.csv', 'Lightning7.csv', 'DistalPhalanxTW.csv', 'WordSynonyms.csv', 'FordB.csv', 'MedicalImages.csv', 'ToeSegmentation1.csv', 'Fungi.csv', 'SmallKitchenAppliances.csv', 'ECG200.csv', 'InsectWingbeatSound.csv', 'ChlorineConcentration.csv', 'BirdChicken.csv', 'DodgerLoopDay.csv', 'ArrowHead.csv', 'Car.csv', 'InsectEPGSmallTrain.csv', 'EOGVerticalSignal.csv', 'ItalyPowerDemand.csv', 'Strawberry.csv', 'Beef.csv', 'ElectricDevices.csv', 'CricketY.csv', 'HouseTwenty.csv', 'AllGestureWiimoteX.csv', 'GunPointAgeSpan.csv', 'CricketX.csv', 'Rock.csv', 'CricketZ.csv', 'MiddlePhalanxOutlineCorrect.csv', 'MiddlePhalanxOutlineAgeGroup.csv', 'Phoneme.csv', 'ShapesAll.csv', 'ScreenType.csv', 'BME.csv', 'ProximalPhalanxOutlineAgeGroup.csv', 'HandOutlines.csv', 'SyntheticControl.csv', 'GunPoint.csv', 'PickupGestureWiimoteZ.csv', 'Yoga.csv', 'FiftyWords.csv', 'OSULeaf.csv', 'WormsTwoClass.csv', 'Mallat.csv', 'Herring.csv', 'Crop.csv', 'AllGestureWiimoteZ.csv', 'UWaveGestureLibraryY.csv', 'DistalPhalanxOutlineAgeGroup.csv', 'NonInvasiveFetalECGThorax1.csv'}\n"
          ]
        }
      ],
      "source": [
        "partial_data_name_list = set(train_name_list) ^ set(test_name_list)\n",
        "print(partial_data_name_list)"
      ]
    },
    {
      "cell_type": "code",
      "execution_count": null,
      "metadata": {
        "colab": {
          "base_uri": "https://localhost:8080/",
          "height": 87
        },
        "id": "Mdok_KWRbHjM",
        "outputId": "0452791d-2934-4286-8b66-84723c4eb377"
      },
      "outputs": [
        {
          "output_type": "execute_result",
          "data": {
            "text/plain": [
              "\"# define input sequence\\nsequence = array([0.1, 0.2, 0.3, 0.4, 0.5, 0.6, 0.7, 0.8, 0.9])\\n# reshape input into [samples, timesteps, features]\\nn_in = len(sequence)\\nsequence = sequence.reshape((1, n_in, 1))\\n# define model\\nmodel = Sequential()\\nmodel.add(LSTM(100, activation='relu', input_shape=(n_in,1)))\\nmodel.add(RepeatVector(n_in))\\nmodel.add(LSTM(100, activation='relu', return_sequences=True))\\nmodel.add(TimeDistributed(Dense(1)))\\nmodel.compile(optimizer='adam', loss='mse')\\n# fit model\\nmodel.fit(sequence, sequence, epochs=300, verbose=0)\\n# connect the encoder LSTM as the output layer\\nmodel = Model(inputs=model.inputs, outputs=model.layers[0].output)\\nplot_model(model, show_shapes=True, to_file='lstm_encoder.png')\\n# get the feature vector for the input sequence\\nyhat = model.predict(sequence)\\nprint(yhat.shape)\\nprint(yhat)\""
            ],
            "application/vnd.google.colaboratory.intrinsic+json": {
              "type": "string"
            }
          },
          "metadata": {},
          "execution_count": 8
        }
      ],
      "source": [
        "\n",
        "# lstm autoencoder recreate sequence\n",
        "from numpy import array\n",
        "from keras.models import Sequential\n",
        "from keras.models import Model\n",
        "from keras.layers import LSTM\n",
        "from keras.layers import Dense\n",
        "from keras.layers import RepeatVector\n",
        "from keras.layers import TimeDistributed\n",
        "from keras.utils import plot_model\n",
        "\"\"\"# define input sequence\n",
        "sequence = array([0.1, 0.2, 0.3, 0.4, 0.5, 0.6, 0.7, 0.8, 0.9])\n",
        "# reshape input into [samples, timesteps, features]\n",
        "n_in = len(sequence)\n",
        "sequence = sequence.reshape((1, n_in, 1))\n",
        "# define model\n",
        "model = Sequential()\n",
        "model.add(LSTM(100, activation='relu', input_shape=(n_in,1)))\n",
        "model.add(RepeatVector(n_in))\n",
        "model.add(LSTM(100, activation='relu', return_sequences=True))\n",
        "model.add(TimeDistributed(Dense(1)))\n",
        "model.compile(optimizer='adam', loss='mse')\n",
        "# fit model\n",
        "model.fit(sequence, sequence, epochs=300, verbose=0)\n",
        "# connect the encoder LSTM as the output layer\n",
        "model = Model(inputs=model.inputs, outputs=model.layers[0].output)\n",
        "plot_model(model, show_shapes=True, to_file='lstm_encoder.png')\n",
        "# get the feature vector for the input sequence\n",
        "yhat = model.predict(sequence)\n",
        "print(yhat.shape)\n",
        "print(yhat)\"\"\""
      ]
    },
    {
      "cell_type": "code",
      "execution_count": null,
      "metadata": {
        "colab": {
          "base_uri": "https://localhost:8080/",
          "height": 105
        },
        "id": "q97BVgxligKy",
        "outputId": "bfafb9e3-ed05-4838-858c-a34cd9340a8e"
      },
      "outputs": [
        {
          "output_type": "execute_result",
          "data": {
            "text/plain": [
              "\"# define dataset\\nX, y = make_classification(n_samples=1000, n_features=100, n_informative=10, n_redundant=90, random_state=1)\\n# number of input columns\\nn_inputs = X.shape[1]\\n# split into train test sets\\nX_train, X_test, y_train, y_test = train_test_split(X, y, test_size=0.33, random_state=1)\\n# scale data\\nt = MinMaxScaler()\\nt.fit(X_train)\\nX_train = t.transform(X_train)\\nX_test = t.transform(X_test)\\n# define encoder\\nvisible = Input(shape=(n_inputs,))\\n# encoder level 1\\ne = Dense(n_inputs*2)(visible)\\ne = BatchNormalization()(e)\\ne = LeakyReLU()(e)\\n# encoder level 2\\ne = Dense(n_inputs)(e)\\ne = BatchNormalization()(e)\\ne = LeakyReLU()(e)\\n# bottleneck\\nn_bottleneck = n_inputs\\nbottleneck = Dense(n_bottleneck)(e)\\n# define decoder, level 1\\nd = Dense(n_inputs)(bottleneck)\\nd = BatchNormalization()(d)\\nd = LeakyReLU()(d)\\n# decoder level 2\\nd = Dense(n_inputs*2)(d)\\nd = BatchNormalization()(d)\\nd = LeakyReLU()(d)\\n# output layer\\noutput = Dense(n_inputs, activation='linear')(d)\\n# define autoencoder model\\nmodel = Model(inputs=visible, outputs=output)\\n# compile autoencoder model\\nmodel.compile(optimizer='adam', loss='mse')\\n# plot the autoencoder\\nplot_model(model, 'autoencoder_no_compress.png', show_shapes=True)\\n# fit the autoencoder model to reconstruct input\\nhistory = model.fit(X_train, X_train, epochs=1, batch_size=16, verbose=2, validation_data=(X_test,X_test))\\n# plot loss\\npyplot.plot(history.history['loss'], label='train')\\npyplot.plot(history.history['val_loss'], label='test')\\npyplot.legend()\\npyplot.show()\\n# define an encoder model (without the decoder)\\nencoder = Model(inputs=visible, outputs=bottleneck)\\nplot_model(encoder, 'encoder_no_compress.png', show_shapes=True)\\n# save the encoder to file\\nencoder.save('encoder.h5')\""
            ],
            "application/vnd.google.colaboratory.intrinsic+json": {
              "type": "string"
            }
          },
          "metadata": {},
          "execution_count": 9
        }
      ],
      "source": [
        "# train autoencoder for classification with no compression in the bottleneck layer\n",
        "from sklearn.datasets import make_classification\n",
        "from sklearn.preprocessing import MinMaxScaler\n",
        "from sklearn.model_selection import train_test_split\n",
        "from tensorflow.keras.models import Model\n",
        "from tensorflow.keras.layers import Input, Dropout, Masking\n",
        "from tensorflow.keras.layers import Dense\n",
        "from tensorflow.keras.layers import LeakyReLU\n",
        "from tensorflow.keras.layers import BatchNormalization\n",
        "from tensorflow.keras.utils import plot_model\n",
        "from matplotlib import pyplot\n",
        "\"\"\"# define dataset\n",
        "X, y = make_classification(n_samples=1000, n_features=100, n_informative=10, n_redundant=90, random_state=1)\n",
        "# number of input columns\n",
        "n_inputs = X.shape[1]\n",
        "# split into train test sets\n",
        "X_train, X_test, y_train, y_test = train_test_split(X, y, test_size=0.33, random_state=1)\n",
        "# scale data\n",
        "t = MinMaxScaler()\n",
        "t.fit(X_train)\n",
        "X_train = t.transform(X_train)\n",
        "X_test = t.transform(X_test)\n",
        "# define encoder\n",
        "visible = Input(shape=(n_inputs,))\n",
        "# encoder level 1\n",
        "e = Dense(n_inputs*2)(visible)\n",
        "e = BatchNormalization()(e)\n",
        "e = LeakyReLU()(e)\n",
        "# encoder level 2\n",
        "e = Dense(n_inputs)(e)\n",
        "e = BatchNormalization()(e)\n",
        "e = LeakyReLU()(e)\n",
        "# bottleneck\n",
        "n_bottleneck = n_inputs\n",
        "bottleneck = Dense(n_bottleneck)(e)\n",
        "# define decoder, level 1\n",
        "d = Dense(n_inputs)(bottleneck)\n",
        "d = BatchNormalization()(d)\n",
        "d = LeakyReLU()(d)\n",
        "# decoder level 2\n",
        "d = Dense(n_inputs*2)(d)\n",
        "d = BatchNormalization()(d)\n",
        "d = LeakyReLU()(d)\n",
        "# output layer\n",
        "output = Dense(n_inputs, activation='linear')(d)\n",
        "# define autoencoder model\n",
        "model = Model(inputs=visible, outputs=output)\n",
        "# compile autoencoder model\n",
        "model.compile(optimizer='adam', loss='mse')\n",
        "# plot the autoencoder\n",
        "plot_model(model, 'autoencoder_no_compress.png', show_shapes=True)\n",
        "# fit the autoencoder model to reconstruct input\n",
        "history = model.fit(X_train, X_train, epochs=1, batch_size=16, verbose=2, validation_data=(X_test,X_test))\n",
        "# plot loss\n",
        "pyplot.plot(history.history['loss'], label='train')\n",
        "pyplot.plot(history.history['val_loss'], label='test')\n",
        "pyplot.legend()\n",
        "pyplot.show()\n",
        "# define an encoder model (without the decoder)\n",
        "encoder = Model(inputs=visible, outputs=bottleneck)\n",
        "plot_model(encoder, 'encoder_no_compress.png', show_shapes=True)\n",
        "# save the encoder to file\n",
        "encoder.save('encoder.h5')\"\"\""
      ]
    },
    {
      "cell_type": "code",
      "execution_count": null,
      "metadata": {
        "id": "dVKP9huTwrAs"
      },
      "outputs": [],
      "source": [
        "def lstm_model_univariate(number_of_columns):\n",
        "  \"\"\"# define encoder\n",
        "  #visible = Input(shape=(number_of_columns,))\n",
        "  #x = LSTM(100, activation='relu')(visible)\n",
        "  model = Sequential()\n",
        "  model.add(LSTM(100, activation='relu', input_shape=(number_of_columns, 1), return_sequences=True))\n",
        "  #model.add(RepeatVector())\n",
        "  model.add(LSTM(24, activation='relu', return_sequences=False))\n",
        "  model.add(RepeatVector(number_of_columns))\n",
        "  # Decoder\n",
        "  model.add(LSTM(24, activation='relu', return_sequences=True))\n",
        "  model.add(LSTM(100, activation='relu', return_sequences=True))\n",
        "  model.add(TimeDistributed(Dense(1)))\"\"\"\n",
        "  # define encoder\n",
        "  visible = Input(shape=(number_of_columns, 1))\n",
        "  n_inputs = 24\n",
        "  # encoder level 1\n",
        "  e = LSTM(n_inputs*2)(visible)\n",
        "  e = BatchNormalization()(e)\n",
        "  e = LeakyReLU()(e)\n",
        "  # encoder level 2\n",
        "  e = RepeatVector(number_of_columns)(e)\n",
        "  e = LSTM(n_inputs)(e)\n",
        "  e = BatchNormalization()(e)\n",
        "  e = LeakyReLU()(e)\n",
        "  # bottleneck\n",
        "  n_bottleneck = n_inputs\n",
        "  bottleneck = Dense(n_bottleneck)(e)\n",
        "  # define decoder, level 1\n",
        "  d = LSTM(n_inputs)(bottleneck)\n",
        "  d = BatchNormalization()(d)\n",
        "  d = LeakyReLU()(d)\n",
        "  # decoder level 2\n",
        "  d = LSTM(n_inputs*2)(d)\n",
        "  d = BatchNormalization()(d)\n",
        "  d = LeakyReLU()(d)\n",
        "  # output layer\n",
        "  output = TimeDistributed(Dense(1))(d)\n",
        "  # define autoencoder model\n",
        "  model = Model(inputs=visible, outputs=output)\n",
        "  # compile autoencoder model\n",
        "  model.compile(optimizer='adam', loss='mse')\n",
        "  return model\n",
        "\n",
        "\n"
      ]
    },
    {
      "cell_type": "code",
      "execution_count": null,
      "metadata": {
        "colab": {
          "base_uri": "https://localhost:8080/",
          "height": 345
        },
        "id": "6AwlNaM62hIu",
        "outputId": "a2ce12b7-6011-416d-9971-31d3ded0b356"
      },
      "outputs": [
        {
          "ename": "ValueError",
          "evalue": "ignored",
          "output_type": "error",
          "traceback": [
            "\u001b[0;31m---------------------------------------------------------------------------\u001b[0m",
            "\u001b[0;31mValueError\u001b[0m                                Traceback (most recent call last)",
            "\u001b[0;32m<ipython-input-10-eb9bf7f62826>\u001b[0m in \u001b[0;36m<module>\u001b[0;34m\u001b[0m\n\u001b[0;32m----> 1\u001b[0;31m \u001b[0mmodel\u001b[0m \u001b[0;34m=\u001b[0m \u001b[0mlstm_model_univariate\u001b[0m\u001b[0;34m(\u001b[0m\u001b[0;36m3000\u001b[0m\u001b[0;34m)\u001b[0m\u001b[0;34m\u001b[0m\u001b[0;34m\u001b[0m\u001b[0m\n\u001b[0m\u001b[1;32m      2\u001b[0m \u001b[0;34m\u001b[0m\u001b[0m\n\u001b[1;32m      3\u001b[0m \u001b[0mmodel\u001b[0m\u001b[0;34m.\u001b[0m\u001b[0msummary\u001b[0m\u001b[0;34m(\u001b[0m\u001b[0;34m)\u001b[0m\u001b[0;34m\u001b[0m\u001b[0;34m\u001b[0m\u001b[0m\n",
            "\u001b[0;32m<ipython-input-9-9351ede43469>\u001b[0m in \u001b[0;36mlstm_model_univariate\u001b[0;34m(number_of_columns)\u001b[0m\n\u001b[1;32m     28\u001b[0m   \u001b[0mbottleneck\u001b[0m \u001b[0;34m=\u001b[0m \u001b[0mDense\u001b[0m\u001b[0;34m(\u001b[0m\u001b[0mn_bottleneck\u001b[0m\u001b[0;34m)\u001b[0m\u001b[0;34m(\u001b[0m\u001b[0me\u001b[0m\u001b[0;34m)\u001b[0m\u001b[0;34m\u001b[0m\u001b[0;34m\u001b[0m\u001b[0m\n\u001b[1;32m     29\u001b[0m   \u001b[0;31m# define decoder, level 1\u001b[0m\u001b[0;34m\u001b[0m\u001b[0;34m\u001b[0m\u001b[0;34m\u001b[0m\u001b[0m\n\u001b[0;32m---> 30\u001b[0;31m   \u001b[0md\u001b[0m \u001b[0;34m=\u001b[0m \u001b[0mLSTM\u001b[0m\u001b[0;34m(\u001b[0m\u001b[0mn_inputs\u001b[0m\u001b[0;34m)\u001b[0m\u001b[0;34m(\u001b[0m\u001b[0mbottleneck\u001b[0m\u001b[0;34m)\u001b[0m\u001b[0;34m\u001b[0m\u001b[0;34m\u001b[0m\u001b[0m\n\u001b[0m\u001b[1;32m     31\u001b[0m   \u001b[0md\u001b[0m \u001b[0;34m=\u001b[0m \u001b[0mBatchNormalization\u001b[0m\u001b[0;34m(\u001b[0m\u001b[0;34m)\u001b[0m\u001b[0;34m(\u001b[0m\u001b[0md\u001b[0m\u001b[0;34m)\u001b[0m\u001b[0;34m\u001b[0m\u001b[0;34m\u001b[0m\u001b[0m\n\u001b[1;32m     32\u001b[0m   \u001b[0md\u001b[0m \u001b[0;34m=\u001b[0m \u001b[0mLeakyReLU\u001b[0m\u001b[0;34m(\u001b[0m\u001b[0;34m)\u001b[0m\u001b[0;34m(\u001b[0m\u001b[0md\u001b[0m\u001b[0;34m)\u001b[0m\u001b[0;34m\u001b[0m\u001b[0;34m\u001b[0m\u001b[0m\n",
            "\u001b[0;32m/usr/local/lib/python3.7/dist-packages/keras/layers/rnn/base_rnn.py\u001b[0m in \u001b[0;36m__call__\u001b[0;34m(self, inputs, initial_state, constants, **kwargs)\u001b[0m\n\u001b[1;32m    513\u001b[0m \u001b[0;34m\u001b[0m\u001b[0m\n\u001b[1;32m    514\u001b[0m     \u001b[0;32mif\u001b[0m \u001b[0minitial_state\u001b[0m \u001b[0;32mis\u001b[0m \u001b[0;32mNone\u001b[0m \u001b[0;32mand\u001b[0m \u001b[0mconstants\u001b[0m \u001b[0;32mis\u001b[0m \u001b[0;32mNone\u001b[0m\u001b[0;34m:\u001b[0m\u001b[0;34m\u001b[0m\u001b[0;34m\u001b[0m\u001b[0m\n\u001b[0;32m--> 515\u001b[0;31m       \u001b[0;32mreturn\u001b[0m \u001b[0msuper\u001b[0m\u001b[0;34m(\u001b[0m\u001b[0mRNN\u001b[0m\u001b[0;34m,\u001b[0m \u001b[0mself\u001b[0m\u001b[0;34m)\u001b[0m\u001b[0;34m.\u001b[0m\u001b[0m__call__\u001b[0m\u001b[0;34m(\u001b[0m\u001b[0minputs\u001b[0m\u001b[0;34m,\u001b[0m \u001b[0;34m**\u001b[0m\u001b[0mkwargs\u001b[0m\u001b[0;34m)\u001b[0m\u001b[0;34m\u001b[0m\u001b[0;34m\u001b[0m\u001b[0m\n\u001b[0m\u001b[1;32m    516\u001b[0m \u001b[0;34m\u001b[0m\u001b[0m\n\u001b[1;32m    517\u001b[0m     \u001b[0;31m# If any of `initial_state` or `constants` are specified and are Keras\u001b[0m\u001b[0;34m\u001b[0m\u001b[0;34m\u001b[0m\u001b[0;34m\u001b[0m\u001b[0m\n",
            "\u001b[0;32m/usr/local/lib/python3.7/dist-packages/keras/utils/traceback_utils.py\u001b[0m in \u001b[0;36merror_handler\u001b[0;34m(*args, **kwargs)\u001b[0m\n\u001b[1;32m     65\u001b[0m     \u001b[0;32mexcept\u001b[0m \u001b[0mException\u001b[0m \u001b[0;32mas\u001b[0m \u001b[0me\u001b[0m\u001b[0;34m:\u001b[0m  \u001b[0;31m# pylint: disable=broad-except\u001b[0m\u001b[0;34m\u001b[0m\u001b[0;34m\u001b[0m\u001b[0m\n\u001b[1;32m     66\u001b[0m       \u001b[0mfiltered_tb\u001b[0m \u001b[0;34m=\u001b[0m \u001b[0m_process_traceback_frames\u001b[0m\u001b[0;34m(\u001b[0m\u001b[0me\u001b[0m\u001b[0;34m.\u001b[0m\u001b[0m__traceback__\u001b[0m\u001b[0;34m)\u001b[0m\u001b[0;34m\u001b[0m\u001b[0;34m\u001b[0m\u001b[0m\n\u001b[0;32m---> 67\u001b[0;31m       \u001b[0;32mraise\u001b[0m \u001b[0me\u001b[0m\u001b[0;34m.\u001b[0m\u001b[0mwith_traceback\u001b[0m\u001b[0;34m(\u001b[0m\u001b[0mfiltered_tb\u001b[0m\u001b[0;34m)\u001b[0m \u001b[0;32mfrom\u001b[0m \u001b[0;32mNone\u001b[0m\u001b[0;34m\u001b[0m\u001b[0;34m\u001b[0m\u001b[0m\n\u001b[0m\u001b[1;32m     68\u001b[0m     \u001b[0;32mfinally\u001b[0m\u001b[0;34m:\u001b[0m\u001b[0;34m\u001b[0m\u001b[0;34m\u001b[0m\u001b[0m\n\u001b[1;32m     69\u001b[0m       \u001b[0;32mdel\u001b[0m \u001b[0mfiltered_tb\u001b[0m\u001b[0;34m\u001b[0m\u001b[0;34m\u001b[0m\u001b[0m\n",
            "\u001b[0;32m/usr/local/lib/python3.7/dist-packages/keras/engine/input_spec.py\u001b[0m in \u001b[0;36massert_input_compatibility\u001b[0;34m(input_spec, inputs, layer_name)\u001b[0m\n\u001b[1;32m    212\u001b[0m       \u001b[0mndim\u001b[0m \u001b[0;34m=\u001b[0m \u001b[0mshape\u001b[0m\u001b[0;34m.\u001b[0m\u001b[0mrank\u001b[0m\u001b[0;34m\u001b[0m\u001b[0;34m\u001b[0m\u001b[0m\n\u001b[1;32m    213\u001b[0m       \u001b[0;32mif\u001b[0m \u001b[0mndim\u001b[0m \u001b[0;34m!=\u001b[0m \u001b[0mspec\u001b[0m\u001b[0;34m.\u001b[0m\u001b[0mndim\u001b[0m\u001b[0;34m:\u001b[0m\u001b[0;34m\u001b[0m\u001b[0;34m\u001b[0m\u001b[0m\n\u001b[0;32m--> 214\u001b[0;31m         raise ValueError(f'Input {input_index} of layer \"{layer_name}\" '\n\u001b[0m\u001b[1;32m    215\u001b[0m                          \u001b[0;34m'is incompatible with the layer: '\u001b[0m\u001b[0;34m\u001b[0m\u001b[0;34m\u001b[0m\u001b[0m\n\u001b[1;32m    216\u001b[0m                          \u001b[0;34mf'expected ndim={spec.ndim}, found ndim={ndim}. '\u001b[0m\u001b[0;34m\u001b[0m\u001b[0;34m\u001b[0m\u001b[0m\n",
            "\u001b[0;31mValueError\u001b[0m: Input 0 of layer \"lstm_4\" is incompatible with the layer: expected ndim=3, found ndim=2. Full shape received: (None, 24)"
          ]
        }
      ],
      "source": [
        "model = lstm_model_univariate(3000)\n",
        "\n",
        "model.summary()"
      ]
    },
    {
      "cell_type": "code",
      "execution_count": null,
      "metadata": {
        "colab": {
          "base_uri": "https://localhost:8080/"
        },
        "id": "UpHm74ZL2j0v",
        "outputId": "be2cbd9d-2ff5-4b98-a78c-2681f629bfa2"
      },
      "outputs": [
        {
          "name": "stderr",
          "output_type": "stream",
          "text": [
            "WARNING:tensorflow:Layer lstm_2 will not use cuDNN kernels since it doesn't meet the criteria. It will use a generic GPU kernel as fallback when running on GPU.\n",
            "WARNING:tensorflow:Layer lstm_3 will not use cuDNN kernels since it doesn't meet the criteria. It will use a generic GPU kernel as fallback when running on GPU.\n",
            "WARNING:tensorflow:Layer lstm_4 will not use cuDNN kernels since it doesn't meet the criteria. It will use a generic GPU kernel as fallback when running on GPU.\n",
            "WARNING:tensorflow:Layer lstm_5 will not use cuDNN kernels since it doesn't meet the criteria. It will use a generic GPU kernel as fallback when running on GPU.\n",
            "WARNING:tensorflow:Layer lstm_6 will not use cuDNN kernels since it doesn't meet the criteria. It will use a generic GPU kernel as fallback when running on GPU.\n"
          ]
        }
      ],
      "source": [
        "model = Sequential()\n",
        "    \n",
        "# Encoder\n",
        "model.add(LSTM(100, activation='relu', input_shape=(3000, 1), return_sequences=True))\n",
        "model.add(LSTM(16, activation='relu', return_sequences=True))\n",
        "model.add(LSTM(1, activation='relu'))\n",
        "model.add(RepeatVector(3000))\n",
        "\n",
        "# Decoder\n",
        "model.add(LSTM(100, activation='relu', return_sequences=True))\n",
        "model.add(LSTM(16, activation='relu', return_sequences=True))\n",
        "model.add(TimeDistributed(Dense(1)))\n",
        "model.compile(optimizer='adam', loss='mse')"
      ]
    },
    {
      "cell_type": "code",
      "execution_count": null,
      "metadata": {
        "colab": {
          "base_uri": "https://localhost:8080/"
        },
        "id": "zxlHP3iEDSPp",
        "outputId": "d23da369-fc56-40dd-b9bd-3b0e291f7a19"
      },
      "outputs": [
        {
          "name": "stdout",
          "output_type": "stream",
          "text": [
            "Model: \"sequential_1\"\n",
            "_________________________________________________________________\n",
            " Layer (type)                Output Shape              Param #   \n",
            "=================================================================\n",
            " lstm_2 (LSTM)               (None, 3000, 100)         40800     \n",
            "                                                                 \n",
            " lstm_3 (LSTM)               (None, 3000, 16)          7488      \n",
            "                                                                 \n",
            " lstm_4 (LSTM)               (None, 1)                 72        \n",
            "                                                                 \n",
            " repeat_vector_1 (RepeatVect  (None, 3000, 1)          0         \n",
            " or)                                                             \n",
            "                                                                 \n",
            " lstm_5 (LSTM)               (None, 3000, 100)         40800     \n",
            "                                                                 \n",
            " lstm_6 (LSTM)               (None, 3000, 16)          7488      \n",
            "                                                                 \n",
            " time_distributed_1 (TimeDis  (None, 3000, 1)          17        \n",
            " tributed)                                                       \n",
            "                                                                 \n",
            "=================================================================\n",
            "Total params: 96,665\n",
            "Trainable params: 96,665\n",
            "Non-trainable params: 0\n",
            "_________________________________________________________________\n"
          ]
        }
      ],
      "source": [
        "model.summary()"
      ]
    },
    {
      "cell_type": "code",
      "execution_count": null,
      "metadata": {
        "colab": {
          "base_uri": "https://localhost:8080/",
          "height": 328
        },
        "id": "4uxcp7olDTOd",
        "outputId": "cadde3e8-d858-4433-a2f0-f750cbccd234"
      },
      "outputs": [
        {
          "name": "stdout",
          "output_type": "stream",
          "text": [
            "   2/2688 [..............................] - ETA: 20:11:55 - loss: nan"
          ]
        },
        {
          "ename": "KeyboardInterrupt",
          "evalue": "ignored",
          "output_type": "error",
          "traceback": [
            "\u001b[0;31m---------------------------------------------------------------------------\u001b[0m",
            "\u001b[0;31mKeyboardInterrupt\u001b[0m                         Traceback (most recent call last)",
            "\u001b[0;32m<ipython-input-10-e6fcc068eb0e>\u001b[0m in \u001b[0;36m<module>\u001b[0;34m\u001b[0m\n\u001b[0;32m----> 1\u001b[0;31m \u001b[0mmodel\u001b[0m\u001b[0;34m.\u001b[0m\u001b[0mfit\u001b[0m\u001b[0;34m(\u001b[0m\u001b[0mtrain_data\u001b[0m\u001b[0;34m,\u001b[0m \u001b[0mtrain_data\u001b[0m\u001b[0;34m,\u001b[0m \u001b[0mepochs\u001b[0m\u001b[0;34m=\u001b[0m\u001b[0;36m1\u001b[0m\u001b[0;34m)\u001b[0m\u001b[0;34m\u001b[0m\u001b[0;34m\u001b[0m\u001b[0m\n\u001b[0m",
            "\u001b[0;32m/usr/local/lib/python3.7/dist-packages/keras/utils/traceback_utils.py\u001b[0m in \u001b[0;36merror_handler\u001b[0;34m(*args, **kwargs)\u001b[0m\n\u001b[1;32m     62\u001b[0m     \u001b[0mfiltered_tb\u001b[0m \u001b[0;34m=\u001b[0m \u001b[0;32mNone\u001b[0m\u001b[0;34m\u001b[0m\u001b[0;34m\u001b[0m\u001b[0m\n\u001b[1;32m     63\u001b[0m     \u001b[0;32mtry\u001b[0m\u001b[0;34m:\u001b[0m\u001b[0;34m\u001b[0m\u001b[0;34m\u001b[0m\u001b[0m\n\u001b[0;32m---> 64\u001b[0;31m       \u001b[0;32mreturn\u001b[0m \u001b[0mfn\u001b[0m\u001b[0;34m(\u001b[0m\u001b[0;34m*\u001b[0m\u001b[0margs\u001b[0m\u001b[0;34m,\u001b[0m \u001b[0;34m**\u001b[0m\u001b[0mkwargs\u001b[0m\u001b[0;34m)\u001b[0m\u001b[0;34m\u001b[0m\u001b[0;34m\u001b[0m\u001b[0m\n\u001b[0m\u001b[1;32m     65\u001b[0m     \u001b[0;32mexcept\u001b[0m \u001b[0mException\u001b[0m \u001b[0;32mas\u001b[0m \u001b[0me\u001b[0m\u001b[0;34m:\u001b[0m  \u001b[0;31m# pylint: disable=broad-except\u001b[0m\u001b[0;34m\u001b[0m\u001b[0;34m\u001b[0m\u001b[0m\n\u001b[1;32m     66\u001b[0m       \u001b[0mfiltered_tb\u001b[0m \u001b[0;34m=\u001b[0m \u001b[0m_process_traceback_frames\u001b[0m\u001b[0;34m(\u001b[0m\u001b[0me\u001b[0m\u001b[0;34m.\u001b[0m\u001b[0m__traceback__\u001b[0m\u001b[0;34m)\u001b[0m\u001b[0;34m\u001b[0m\u001b[0;34m\u001b[0m\u001b[0m\n",
            "\u001b[0;32m/usr/local/lib/python3.7/dist-packages/keras/engine/training.py\u001b[0m in \u001b[0;36mfit\u001b[0;34m(self, x, y, batch_size, epochs, verbose, callbacks, validation_split, validation_data, shuffle, class_weight, sample_weight, initial_epoch, steps_per_epoch, validation_steps, validation_batch_size, validation_freq, max_queue_size, workers, use_multiprocessing)\u001b[0m\n\u001b[1;32m   1407\u001b[0m                 _r=1):\n\u001b[1;32m   1408\u001b[0m               \u001b[0mcallbacks\u001b[0m\u001b[0;34m.\u001b[0m\u001b[0mon_train_batch_begin\u001b[0m\u001b[0;34m(\u001b[0m\u001b[0mstep\u001b[0m\u001b[0;34m)\u001b[0m\u001b[0;34m\u001b[0m\u001b[0;34m\u001b[0m\u001b[0m\n\u001b[0;32m-> 1409\u001b[0;31m               \u001b[0mtmp_logs\u001b[0m \u001b[0;34m=\u001b[0m \u001b[0mself\u001b[0m\u001b[0;34m.\u001b[0m\u001b[0mtrain_function\u001b[0m\u001b[0;34m(\u001b[0m\u001b[0miterator\u001b[0m\u001b[0;34m)\u001b[0m\u001b[0;34m\u001b[0m\u001b[0;34m\u001b[0m\u001b[0m\n\u001b[0m\u001b[1;32m   1410\u001b[0m               \u001b[0;32mif\u001b[0m \u001b[0mdata_handler\u001b[0m\u001b[0;34m.\u001b[0m\u001b[0mshould_sync\u001b[0m\u001b[0;34m:\u001b[0m\u001b[0;34m\u001b[0m\u001b[0;34m\u001b[0m\u001b[0m\n\u001b[1;32m   1411\u001b[0m                 \u001b[0mcontext\u001b[0m\u001b[0;34m.\u001b[0m\u001b[0masync_wait\u001b[0m\u001b[0;34m(\u001b[0m\u001b[0;34m)\u001b[0m\u001b[0;34m\u001b[0m\u001b[0;34m\u001b[0m\u001b[0m\n",
            "\u001b[0;32m/usr/local/lib/python3.7/dist-packages/tensorflow/python/util/traceback_utils.py\u001b[0m in \u001b[0;36merror_handler\u001b[0;34m(*args, **kwargs)\u001b[0m\n\u001b[1;32m    148\u001b[0m     \u001b[0mfiltered_tb\u001b[0m \u001b[0;34m=\u001b[0m \u001b[0;32mNone\u001b[0m\u001b[0;34m\u001b[0m\u001b[0;34m\u001b[0m\u001b[0m\n\u001b[1;32m    149\u001b[0m     \u001b[0;32mtry\u001b[0m\u001b[0;34m:\u001b[0m\u001b[0;34m\u001b[0m\u001b[0;34m\u001b[0m\u001b[0m\n\u001b[0;32m--> 150\u001b[0;31m       \u001b[0;32mreturn\u001b[0m \u001b[0mfn\u001b[0m\u001b[0;34m(\u001b[0m\u001b[0;34m*\u001b[0m\u001b[0margs\u001b[0m\u001b[0;34m,\u001b[0m \u001b[0;34m**\u001b[0m\u001b[0mkwargs\u001b[0m\u001b[0;34m)\u001b[0m\u001b[0;34m\u001b[0m\u001b[0;34m\u001b[0m\u001b[0m\n\u001b[0m\u001b[1;32m    151\u001b[0m     \u001b[0;32mexcept\u001b[0m \u001b[0mException\u001b[0m \u001b[0;32mas\u001b[0m \u001b[0me\u001b[0m\u001b[0;34m:\u001b[0m\u001b[0;34m\u001b[0m\u001b[0;34m\u001b[0m\u001b[0m\n\u001b[1;32m    152\u001b[0m       \u001b[0mfiltered_tb\u001b[0m \u001b[0;34m=\u001b[0m \u001b[0m_process_traceback_frames\u001b[0m\u001b[0;34m(\u001b[0m\u001b[0me\u001b[0m\u001b[0;34m.\u001b[0m\u001b[0m__traceback__\u001b[0m\u001b[0;34m)\u001b[0m\u001b[0;34m\u001b[0m\u001b[0;34m\u001b[0m\u001b[0m\n",
            "\u001b[0;32m/usr/local/lib/python3.7/dist-packages/tensorflow/python/eager/def_function.py\u001b[0m in \u001b[0;36m__call__\u001b[0;34m(self, *args, **kwds)\u001b[0m\n\u001b[1;32m    913\u001b[0m \u001b[0;34m\u001b[0m\u001b[0m\n\u001b[1;32m    914\u001b[0m       \u001b[0;32mwith\u001b[0m \u001b[0mOptionalXlaContext\u001b[0m\u001b[0;34m(\u001b[0m\u001b[0mself\u001b[0m\u001b[0;34m.\u001b[0m\u001b[0m_jit_compile\u001b[0m\u001b[0;34m)\u001b[0m\u001b[0;34m:\u001b[0m\u001b[0;34m\u001b[0m\u001b[0;34m\u001b[0m\u001b[0m\n\u001b[0;32m--> 915\u001b[0;31m         \u001b[0mresult\u001b[0m \u001b[0;34m=\u001b[0m \u001b[0mself\u001b[0m\u001b[0;34m.\u001b[0m\u001b[0m_call\u001b[0m\u001b[0;34m(\u001b[0m\u001b[0;34m*\u001b[0m\u001b[0margs\u001b[0m\u001b[0;34m,\u001b[0m \u001b[0;34m**\u001b[0m\u001b[0mkwds\u001b[0m\u001b[0;34m)\u001b[0m\u001b[0;34m\u001b[0m\u001b[0;34m\u001b[0m\u001b[0m\n\u001b[0m\u001b[1;32m    916\u001b[0m \u001b[0;34m\u001b[0m\u001b[0m\n\u001b[1;32m    917\u001b[0m       \u001b[0mnew_tracing_count\u001b[0m \u001b[0;34m=\u001b[0m \u001b[0mself\u001b[0m\u001b[0;34m.\u001b[0m\u001b[0mexperimental_get_tracing_count\u001b[0m\u001b[0;34m(\u001b[0m\u001b[0;34m)\u001b[0m\u001b[0;34m\u001b[0m\u001b[0;34m\u001b[0m\u001b[0m\n",
            "\u001b[0;32m/usr/local/lib/python3.7/dist-packages/tensorflow/python/eager/def_function.py\u001b[0m in \u001b[0;36m_call\u001b[0;34m(self, *args, **kwds)\u001b[0m\n\u001b[1;32m    945\u001b[0m       \u001b[0;31m# In this case we have created variables on the first call, so we run the\u001b[0m\u001b[0;34m\u001b[0m\u001b[0;34m\u001b[0m\u001b[0;34m\u001b[0m\u001b[0m\n\u001b[1;32m    946\u001b[0m       \u001b[0;31m# defunned version which is guaranteed to never create variables.\u001b[0m\u001b[0;34m\u001b[0m\u001b[0;34m\u001b[0m\u001b[0;34m\u001b[0m\u001b[0m\n\u001b[0;32m--> 947\u001b[0;31m       \u001b[0;32mreturn\u001b[0m \u001b[0mself\u001b[0m\u001b[0;34m.\u001b[0m\u001b[0m_stateless_fn\u001b[0m\u001b[0;34m(\u001b[0m\u001b[0;34m*\u001b[0m\u001b[0margs\u001b[0m\u001b[0;34m,\u001b[0m \u001b[0;34m**\u001b[0m\u001b[0mkwds\u001b[0m\u001b[0;34m)\u001b[0m  \u001b[0;31m# pylint: disable=not-callable\u001b[0m\u001b[0;34m\u001b[0m\u001b[0;34m\u001b[0m\u001b[0m\n\u001b[0m\u001b[1;32m    948\u001b[0m     \u001b[0;32melif\u001b[0m \u001b[0mself\u001b[0m\u001b[0;34m.\u001b[0m\u001b[0m_stateful_fn\u001b[0m \u001b[0;32mis\u001b[0m \u001b[0;32mnot\u001b[0m \u001b[0;32mNone\u001b[0m\u001b[0;34m:\u001b[0m\u001b[0;34m\u001b[0m\u001b[0;34m\u001b[0m\u001b[0m\n\u001b[1;32m    949\u001b[0m       \u001b[0;31m# Release the lock early so that multiple threads can perform the call\u001b[0m\u001b[0;34m\u001b[0m\u001b[0;34m\u001b[0m\u001b[0;34m\u001b[0m\u001b[0m\n",
            "\u001b[0;32m/usr/local/lib/python3.7/dist-packages/tensorflow/python/eager/function.py\u001b[0m in \u001b[0;36m__call__\u001b[0;34m(self, *args, **kwargs)\u001b[0m\n\u001b[1;32m   2452\u001b[0m        filtered_flat_args) = self._maybe_define_function(args, kwargs)\n\u001b[1;32m   2453\u001b[0m     return graph_function._call_flat(\n\u001b[0;32m-> 2454\u001b[0;31m         filtered_flat_args, captured_inputs=graph_function.captured_inputs)  # pylint: disable=protected-access\n\u001b[0m\u001b[1;32m   2455\u001b[0m \u001b[0;34m\u001b[0m\u001b[0m\n\u001b[1;32m   2456\u001b[0m   \u001b[0;34m@\u001b[0m\u001b[0mproperty\u001b[0m\u001b[0;34m\u001b[0m\u001b[0;34m\u001b[0m\u001b[0m\n",
            "\u001b[0;32m/usr/local/lib/python3.7/dist-packages/tensorflow/python/eager/function.py\u001b[0m in \u001b[0;36m_call_flat\u001b[0;34m(self, args, captured_inputs, cancellation_manager)\u001b[0m\n\u001b[1;32m   1859\u001b[0m       \u001b[0;31m# No tape is watching; skip to running the function.\u001b[0m\u001b[0;34m\u001b[0m\u001b[0;34m\u001b[0m\u001b[0;34m\u001b[0m\u001b[0m\n\u001b[1;32m   1860\u001b[0m       return self._build_call_outputs(self._inference_function.call(\n\u001b[0;32m-> 1861\u001b[0;31m           ctx, args, cancellation_manager=cancellation_manager))\n\u001b[0m\u001b[1;32m   1862\u001b[0m     forward_backward = self._select_forward_and_backward_functions(\n\u001b[1;32m   1863\u001b[0m         \u001b[0margs\u001b[0m\u001b[0;34m,\u001b[0m\u001b[0;34m\u001b[0m\u001b[0;34m\u001b[0m\u001b[0m\n",
            "\u001b[0;32m/usr/local/lib/python3.7/dist-packages/tensorflow/python/eager/function.py\u001b[0m in \u001b[0;36mcall\u001b[0;34m(self, ctx, args, cancellation_manager)\u001b[0m\n\u001b[1;32m    500\u001b[0m               \u001b[0minputs\u001b[0m\u001b[0;34m=\u001b[0m\u001b[0margs\u001b[0m\u001b[0;34m,\u001b[0m\u001b[0;34m\u001b[0m\u001b[0;34m\u001b[0m\u001b[0m\n\u001b[1;32m    501\u001b[0m               \u001b[0mattrs\u001b[0m\u001b[0;34m=\u001b[0m\u001b[0mattrs\u001b[0m\u001b[0;34m,\u001b[0m\u001b[0;34m\u001b[0m\u001b[0;34m\u001b[0m\u001b[0m\n\u001b[0;32m--> 502\u001b[0;31m               ctx=ctx)\n\u001b[0m\u001b[1;32m    503\u001b[0m         \u001b[0;32melse\u001b[0m\u001b[0;34m:\u001b[0m\u001b[0;34m\u001b[0m\u001b[0;34m\u001b[0m\u001b[0m\n\u001b[1;32m    504\u001b[0m           outputs = execute.execute_with_cancellation(\n",
            "\u001b[0;32m/usr/local/lib/python3.7/dist-packages/tensorflow/python/eager/execute.py\u001b[0m in \u001b[0;36mquick_execute\u001b[0;34m(op_name, num_outputs, inputs, attrs, ctx, name)\u001b[0m\n\u001b[1;32m     53\u001b[0m     \u001b[0mctx\u001b[0m\u001b[0;34m.\u001b[0m\u001b[0mensure_initialized\u001b[0m\u001b[0;34m(\u001b[0m\u001b[0;34m)\u001b[0m\u001b[0;34m\u001b[0m\u001b[0;34m\u001b[0m\u001b[0m\n\u001b[1;32m     54\u001b[0m     tensors = pywrap_tfe.TFE_Py_Execute(ctx._handle, device_name, op_name,\n\u001b[0;32m---> 55\u001b[0;31m                                         inputs, attrs, num_outputs)\n\u001b[0m\u001b[1;32m     56\u001b[0m   \u001b[0;32mexcept\u001b[0m \u001b[0mcore\u001b[0m\u001b[0;34m.\u001b[0m\u001b[0m_NotOkStatusException\u001b[0m \u001b[0;32mas\u001b[0m \u001b[0me\u001b[0m\u001b[0;34m:\u001b[0m\u001b[0;34m\u001b[0m\u001b[0;34m\u001b[0m\u001b[0m\n\u001b[1;32m     57\u001b[0m     \u001b[0;32mif\u001b[0m \u001b[0mname\u001b[0m \u001b[0;32mis\u001b[0m \u001b[0;32mnot\u001b[0m \u001b[0;32mNone\u001b[0m\u001b[0;34m:\u001b[0m\u001b[0;34m\u001b[0m\u001b[0;34m\u001b[0m\u001b[0m\n",
            "\u001b[0;31mKeyboardInterrupt\u001b[0m: "
          ]
        }
      ],
      "source": [
        "model.fit(train_data, train_data, epochs=1)"
      ]
    },
    {
      "cell_type": "code",
      "execution_count": null,
      "metadata": {
        "colab": {
          "base_uri": "https://localhost:8080/"
        },
        "id": "Uf06UDVDD-H9",
        "outputId": "a04b1c99-ffac-4e13-9f13-b732e6998e06"
      },
      "outputs": [
        {
          "name": "stdout",
          "output_type": "stream",
          "text": [
            "193/193 [==============================] - 337s 2s/step - loss: nan\n"
          ]
        },
        {
          "data": {
            "text/plain": [
              "nan"
            ]
          },
          "execution_count": 24,
          "metadata": {},
          "output_type": "execute_result"
        }
      ],
      "source": [
        "model.evaluate(test_data, test_data)"
      ]
    },
    {
      "cell_type": "code",
      "execution_count": null,
      "metadata": {
        "id": "Zsiwbxb_EAZj"
      },
      "outputs": [],
      "source": [
        "def seq2seq_model_builder(HIDDEN_DIM=300):\n",
        "    \n",
        "    encoder_inputs = Input(shape=(MAX_LEN, ), dtype='int32',)\n",
        "    encoder_embedding = embed_layer(encoder_inputs)\n",
        "    encoder_LSTM = LSTM(HIDDEN_DIM, return_state=True)\n",
        "    encoder_outputs, state_h, state_c = encoder_LSTM(encoder_embedding)\n",
        "    \n",
        "    decoder_inputs = Input(shape=(MAX_LEN, ), dtype='int32',)\n",
        "    decoder_embedding = embed_layer(decoder_inputs)\n",
        "    decoder_LSTM = LSTM(HIDDEN_DIM, return_state=True, return_sequences=True)\n",
        "    decoder_outputs, _, _ = decoder_LSTM(decoder_embedding, initial_state=[state_h, state_c])\n",
        "    \n",
        "    # dense_layer = Dense(VOCAB_SIZE, activation='softmax')\n",
        "    outputs = TimeDistributed(Dense(VOCAB_SIZE, activation='softmax'))(decoder_outputs)\n",
        "    model = Model([encoder_inputs, decoder_inputs], outputs)\n",
        "    \n",
        "    return model"
      ]
    },
    {
      "cell_type": "code",
      "execution_count": null,
      "metadata": {
        "id": "SygRM-QcjaUU"
      },
      "outputs": [],
      "source": [
        "input_dim = 3000\n",
        "timesteps = 3000\n",
        "latent_dim = 24\n",
        "inputs = Input(shape=(None, input_dim))\n",
        "masked_input = Masking(mask_value=0.0, input_shape=(None,input_dim))(inputs)\n",
        "encoded = LSTM(latent_dim)(masked_input)\n",
        "\n",
        "decoded = RepeatVector(timesteps)(encoded)\n",
        "decoded = LSTM(input_dim, return_sequences=True)(decoded)\n",
        "sequence_autoencoder = Model(inputs, decoded)\n",
        "encoder = Model(inputs, encoded)"
      ]
    },
    {
      "cell_type": "code",
      "execution_count": null,
      "metadata": {
        "colab": {
          "base_uri": "https://localhost:8080/"
        },
        "id": "nhWNUeHE0rnO",
        "outputId": "596f97cd-224a-4949-eb92-452b9628d83e"
      },
      "outputs": [
        {
          "output_type": "stream",
          "name": "stderr",
          "text": [
            "WARNING:tensorflow:Layer lstm_6 will not use cuDNN kernels since it doesn't meet the criteria. It will use a generic GPU kernel as fallback when running on GPU.\n",
            "WARNING:tensorflow:Layer lstm_7 will not use cuDNN kernels since it doesn't meet the criteria. It will use a generic GPU kernel as fallback when running on GPU.\n"
          ]
        },
        {
          "output_type": "stream",
          "name": "stdout",
          "text": [
            "Model: \"sequential_3\"\n",
            "_________________________________________________________________\n",
            " Layer (type)                Output Shape              Param #   \n",
            "=================================================================\n",
            " lstm_6 (LSTM)               (None, 24)                2496      \n",
            "                                                                 \n",
            " repeat_vector_3 (RepeatVect  (None, 50, 24)           0         \n",
            " or)                                                             \n",
            "                                                                 \n",
            " lstm_7 (LSTM)               (None, 50, 24)            4704      \n",
            "                                                                 \n",
            " time_distributed_3 (TimeDis  (None, 50, 1)            25        \n",
            " tributed)                                                       \n",
            "                                                                 \n",
            "=================================================================\n",
            "Total params: 7,225\n",
            "Trainable params: 7,225\n",
            "Non-trainable params: 0\n",
            "_________________________________________________________________\n"
          ]
        }
      ],
      "source": [
        "from tensorflow import keras\n",
        "\n",
        "X_train_shape = train_data.shape\n",
        "model = Sequential()\n",
        "#model.add(Masking(mask_value=0, input_shape=(X_train_shape[1], X_train_shape[2])))\n",
        "model.add(LSTM(24, activation='relu', input_shape=(X_train_shape[1], X_train_shape[2])))\n",
        "#model.add(Dropout(rate=0.2))\n",
        "model.add(RepeatVector(X_train_shape[1]))\n",
        "model.add(LSTM(24, activation='relu', return_sequences=True))\n",
        "#model.add(Dropout(rate=0.2))\n",
        "model.add(TimeDistributed(Dense(X_train_shape[2])))\n",
        "opt = keras.optimizers.Adam(learning_rate=0.00001)\n",
        "model.compile(optimizer=opt, loss='mae')\n",
        "model.summary()"
      ]
    },
    {
      "cell_type": "code",
      "execution_count": null,
      "metadata": {
        "colab": {
          "base_uri": "https://localhost:8080/"
        },
        "id": "AAx8PypP2Epi",
        "outputId": "57425298-a440-4e01-b99b-013402e02d5f"
      },
      "outputs": [
        {
          "output_type": "stream",
          "name": "stdout",
          "text": [
            "Epoch 1/10\n",
            "23274/24810 [===========================>..] - ETA: 3:47 - loss: nan"
          ]
        }
      ],
      "source": [
        "history = model.fit(train_data, train_data, epochs=10, batch_size=16, shuffle=False)"
      ]
    },
    {
      "cell_type": "code",
      "execution_count": null,
      "metadata": {
        "colab": {
          "base_uri": "https://localhost:8080/",
          "height": 265
        },
        "id": "layJjArT3TRt",
        "outputId": "84f6b60b-af95-462d-d834-a650f0964e96"
      },
      "outputs": [
        {
          "data": {
            "image/png": "[encoded data removed]",
            "text/plain": [
              "<Figure size 432x288 with 1 Axes>"
            ]
          },
          "metadata": {},
          "output_type": "display_data"
        }
      ],
      "source": [
        "import matplotlib.pyplot as plt\n",
        "\n",
        "pyplot.plot(history.history['loss'], label='train')\n",
        "#pyplot.plot(history.history['val_loss'], label='test')\n",
        "pyplot.legend()\n",
        "pyplot.show()"
      ]
    },
    {
      "cell_type": "code",
      "execution_count": null,
      "metadata": {
        "colab": {
          "base_uri": "https://localhost:8080/"
        },
        "id": "R_xkINC69ymV",
        "outputId": "a4f29e06-36ad-4508-ca03-b2ccab475e7f"
      },
      "outputs": [
        {
          "data": {
            "text/plain": [
              "[nan]"
            ]
          },
          "execution_count": 26,
          "metadata": {},
          "output_type": "execute_result"
        }
      ],
      "source": [
        "history.history['loss']"
      ]
    },
    {
      "cell_type": "code",
      "execution_count": null,
      "metadata": {
        "id": "BRohHPftxAto"
      },
      "outputs": [],
      "source": []
    },
    {
      "cell_type": "code",
      "execution_count": null,
      "metadata": {
        "colab": {
          "base_uri": "https://localhost:8080/"
        },
        "id": "_63ocDuG93UK",
        "outputId": "5d78acdc-f2fc-4c96-fa84-53d2b5367d40"
      },
      "outputs": [
        {
          "output_type": "stream",
          "name": "stdout",
          "text": [
            "Model: \"sequential_1\"\n",
            "_________________________________________________________________\n",
            " Layer (type)                Output Shape              Param #   \n",
            "=================================================================\n",
            " conv1d_2 (Conv1D)           (None, 64, 32)            256       \n",
            "                                                                 \n",
            " max_pooling1d_2 (MaxPooling  (None, 32, 32)           0         \n",
            " 1D)                                                             \n",
            "                                                                 \n",
            " conv1d_3 (Conv1D)           (None, 16, 16)            2576      \n",
            "                                                                 \n",
            " max_pooling1d_3 (MaxPooling  (None, 8, 16)            0         \n",
            " 1D)                                                             \n",
            "                                                                 \n",
            " dense_1 (Dense)             (None, 8, 2)              34        \n",
            "                                                                 \n",
            " up_sampling1d_2 (UpSampling  (None, 16, 2)            0         \n",
            " 1D)                                                             \n",
            "                                                                 \n",
            " conv1d_transpose_3 (Conv1DT  (None, 32, 16)           176       \n",
            " ranspose)                                                       \n",
            "                                                                 \n",
            " up_sampling1d_3 (UpSampling  (None, 64, 16)           0         \n",
            " 1D)                                                             \n",
            "                                                                 \n",
            " conv1d_transpose_4 (Conv1DT  (None, 128, 32)          3616      \n",
            " ranspose)                                                       \n",
            "                                                                 \n",
            " conv1d_transpose_5 (Conv1DT  (None, 128, 1)           225       \n",
            " ranspose)                                                       \n",
            "                                                                 \n",
            "=================================================================\n",
            "Total params: 6,883\n",
            "Trainable params: 6,883\n",
            "Non-trainable params: 0\n",
            "_________________________________________________________________\n"
          ]
        }
      ],
      "source": [
        "import numpy as np\n",
        "import pandas as pd\n",
        "from tensorflow import keras\n",
        "from tensorflow.keras import layers\n",
        "from matplotlib import pyplot as plt\n",
        "from tensorflow.keras import initializers\n",
        "\n",
        "model = Sequential(\n",
        "    [\n",
        "        layers.Input(shape=(train_data.shape[1], train_data.shape[2])),\n",
        "        layers.Conv1D(\n",
        "            filters=32, kernel_size=7, padding=\"same\", strides=2, activation=\"relu\", kernel_initializer=initializers.RandomNormal(stddev=0.1)\n",
        "        ),\n",
        "      layers.MaxPooling1D(2, padding='same'),\n",
        "     layers.Conv1D(\n",
        "            filters=16, kernel_size=5, padding=\"same\", strides=2, activation=\"relu\", kernel_initializer=initializers.RandomNormal(stddev=0.1)\n",
        "        ),\n",
        "     layers.MaxPooling1D(2, padding='same'),\n",
        "     layers.Dense(2, activation='relu'),\n",
        "     layers.UpSampling1D(2),\n",
        "        \n",
        "        layers.Conv1DTranspose(\n",
        "            filters=16, kernel_size=5, padding=\"same\", strides=2, activation=\"relu\", kernel_initializer=initializers.RandomNormal(stddev=0.1)\n",
        "        ),\n",
        "     layers.UpSampling1D(2),\n",
        "     layers.Conv1DTranspose(\n",
        "            filters=32, kernel_size=7, padding=\"same\", strides=2, activation=\"relu\", kernel_initializer=initializers.RandomNormal(stddev=0.1)\n",
        "        ),\n",
        "     #layers.UpSampling1D(2),\n",
        "        layers.Conv1DTranspose(filters=1, kernel_size=7, padding=\"same\", kernel_initializer=initializers.RandomNormal(stddev=0.1)),\n",
        "    ]\n",
        ")\n",
        "model.compile(optimizer=keras.optimizers.Adam(learning_rate=0.001), loss=\"mse\")\n",
        "model.summary()"
      ]
    },
    {
      "cell_type": "code",
      "execution_count": null,
      "metadata": {
        "id": "kY_ESL34vhlr",
        "colab": {
          "base_uri": "https://localhost:8080/"
        },
        "outputId": "f09fa56c-27f7-44e5-81b3-eea1b5d84415"
      },
      "outputs": [
        {
          "output_type": "stream",
          "name": "stdout",
          "text": [
            "Epoch 1/30\n",
            "27129/27129 [==============================] - 100s 4ms/step - loss: 0.0015\n",
            "Epoch 2/30\n",
            "27129/27129 [==============================] - 98s 4ms/step - loss: 3.5016e-04\n",
            "Epoch 3/30\n",
            "27129/27129 [==============================] - 100s 4ms/step - loss: 2.2371e-04\n",
            "Epoch 4/30\n",
            "27129/27129 [==============================] - 100s 4ms/step - loss: 2.5938e-04\n",
            "Epoch 5/30\n",
            "27129/27129 [==============================] - 100s 4ms/step - loss: 1.3687e-04\n",
            "Epoch 6/30\n",
            "27129/27129 [==============================] - 99s 4ms/step - loss: 1.1878e-04\n",
            "Epoch 7/30\n",
            "27129/27129 [==============================] - 99s 4ms/step - loss: 1.1991e-04\n",
            "Epoch 8/30\n",
            "27129/27129 [==============================] - 99s 4ms/step - loss: 9.4743e-05\n",
            "Epoch 9/30\n",
            "27129/27129 [==============================] - 99s 4ms/step - loss: 8.5805e-05\n",
            "Epoch 10/30\n",
            "27129/27129 [==============================] - 99s 4ms/step - loss: 1.0402e-04\n",
            "Epoch 11/30\n",
            "27129/27129 [==============================] - 99s 4ms/step - loss: 8.6181e-05\n",
            "Epoch 12/30\n",
            "27129/27129 [==============================] - 98s 4ms/step - loss: 7.3978e-05\n",
            "Epoch 13/30\n",
            "27129/27129 [==============================] - 99s 4ms/step - loss: 8.6392e-05\n",
            "Epoch 14/30\n",
            "27129/27129 [==============================] - 99s 4ms/step - loss: 7.2532e-05\n",
            "Epoch 15/30\n",
            "27129/27129 [==============================] - 99s 4ms/step - loss: 7.1189e-05\n",
            "Epoch 16/30\n",
            "27129/27129 [==============================] - 99s 4ms/step - loss: 6.9714e-05\n",
            "Epoch 17/30\n",
            "27129/27129 [==============================] - 98s 4ms/step - loss: 6.8990e-05\n",
            "Epoch 18/30\n",
            "27129/27129 [==============================] - 99s 4ms/step - loss: 6.1013e-05\n",
            "Epoch 19/30\n",
            "27129/27129 [==============================] - 98s 4ms/step - loss: 6.2995e-05\n",
            "Epoch 20/30\n",
            "27129/27129 [==============================] - 98s 4ms/step - loss: 6.1443e-05\n",
            "Epoch 21/30\n",
            "27129/27129 [==============================] - 97s 4ms/step - loss: 5.4922e-05\n",
            "Epoch 22/30\n",
            "27129/27129 [==============================] - 98s 4ms/step - loss: 5.7244e-05\n",
            "Epoch 23/30\n",
            "27129/27129 [==============================] - 98s 4ms/step - loss: 5.8807e-05\n",
            "Epoch 24/30\n",
            "27129/27129 [==============================] - 98s 4ms/step - loss: 5.4094e-05\n",
            "Epoch 25/30\n",
            "27129/27129 [==============================] - 98s 4ms/step - loss: 5.8289e-05\n",
            "Epoch 26/30\n",
            "27129/27129 [==============================] - 98s 4ms/step - loss: 5.2663e-05\n",
            "Epoch 27/30\n",
            "27129/27129 [==============================] - 99s 4ms/step - loss: 4.4489e-05\n",
            "Epoch 28/30\n",
            "27129/27129 [==============================] - 99s 4ms/step - loss: 4.6205e-05\n",
            "Epoch 29/30\n",
            "27129/27129 [==============================] - 99s 4ms/step - loss: 4.4567e-05\n",
            "Epoch 30/30\n",
            "27129/27129 [==============================] - 98s 4ms/step - loss: 5.1090e-05\n"
          ]
        }
      ],
      "source": [
        "history = model.fit(\n",
        "    train_data,\n",
        "    train_data,\n",
        "    epochs=30,\n",
        "    batch_size=16,\n",
        "    #validation_split=0.1,\n",
        "    #callbacks=[keras.callbacks.EarlyStopping(monitor=\"val_loss\", patience=5, mode=\"min\")],\n",
        ")"
      ]
    },
    {
      "cell_type": "code",
      "source": [
        "np.sum(np.isnan(train_data))\n"
      ],
      "metadata": {
        "colab": {
          "base_uri": "https://localhost:8080/"
        },
        "id": "rMq6tLMMW3qq",
        "outputId": "9033c8fa-beb3-45a5-f715-34d519a0231f"
      },
      "execution_count": null,
      "outputs": [
        {
          "output_type": "execute_result",
          "data": {
            "text/plain": [
              "0"
            ]
          },
          "metadata": {},
          "execution_count": 22
        }
      ]
    },
    {
      "cell_type": "code",
      "execution_count": null,
      "metadata": {
        "colab": {
          "base_uri": "https://localhost:8080/",
          "height": 592
        },
        "id": "osnZwjjwxb1n",
        "outputId": "33e7ee82-b3fe-4b94-f4ea-cf0b549f69fd"
      },
      "outputs": [
        {
          "output_type": "display_data",
          "data": {
            "text/plain": [
              "<Figure size 1080x720 with 1 Axes>"
            ],
            "image/png": "[encoded data removed]"
          },
          "metadata": {
            "needs_background": "light"
          }
        }
      ],
      "source": [
        "f, ax = plt.subplots(1, 1, figsize=(15, 10))\n",
        "ax.plot(history.history[\"loss\"], label=\"Training Loss\")\n",
        "#plt.plot(history.history[\"val_loss\"], label=\"Validation Loss\")\n",
        "plt.legend()\n",
        "plt.show()"
      ]
    },
    {
      "cell_type": "code",
      "execution_count": null,
      "metadata": {
        "id": "j_7TbAT7ybA-",
        "colab": {
          "base_uri": "https://localhost:8080/"
        },
        "outputId": "e05dd6c3-e398-4f68-b6ee-62afac74578f"
      },
      "outputs": [
        {
          "output_type": "stream",
          "name": "stderr",
          "text": [
            "WARNING:absl:Found untraced functions such as _jit_compiled_convolution_op, _jit_compiled_convolution_op, _jit_compiled_convolution_op, _jit_compiled_convolution_op, _jit_compiled_convolution_op while saving (showing 5 of 5). These functions will not be directly callable after loading.\n"
          ]
        }
      ],
      "source": [
        "os.mkdir('saved_models')\n",
        "model.save('saved_models/model_1')"
      ]
    },
    {
      "cell_type": "code",
      "source": [
        "import tensorflow as tf\n",
        "model = tf.keras.models.load_model('saved_models/model_1')"
      ],
      "metadata": {
        "id": "SAvDFeypjkPT"
      },
      "execution_count": null,
      "outputs": []
    },
    {
      "cell_type": "code",
      "source": [
        "model.evaluate(test_data, test_data)"
      ],
      "metadata": {
        "colab": {
          "base_uri": "https://localhost:8080/"
        },
        "id": "WaiqvT1L8N9T",
        "outputId": "0a57e5ad-682c-4b0e-b1fd-6a5defd98ceb"
      },
      "execution_count": null,
      "outputs": [
        {
          "output_type": "stream",
          "name": "stdout",
          "text": [
            "507/507 [==============================] - 10s 3ms/step - loss: 3.7335e-04\n"
          ]
        },
        {
          "output_type": "execute_result",
          "data": {
            "text/plain": [
              "0.00037335162051022053"
            ]
          },
          "metadata": {},
          "execution_count": 13
        }
      ]
    },
    {
      "cell_type": "code",
      "source": [
        "model.summary()"
      ],
      "metadata": {
        "colab": {
          "base_uri": "https://localhost:8080/"
        },
        "id": "h0PqSGCQ9K1X",
        "outputId": "c807ddf8-2dd6-40fe-a013-71132b01f1c1"
      },
      "execution_count": null,
      "outputs": [
        {
          "output_type": "stream",
          "name": "stdout",
          "text": [
            "Model: \"sequential_1\"\n",
            "_________________________________________________________________\n",
            " Layer (type)                Output Shape              Param #   \n",
            "=================================================================\n",
            " conv1d_2 (Conv1D)           (None, 64, 64)            512       \n",
            "                                                                 \n",
            " conv1d_3 (Conv1D)           (None, 32, 32)            6176      \n",
            "                                                                 \n",
            " conv1d_transpose_3 (Conv1DT  (None, 64, 32)           3104      \n",
            " ranspose)                                                       \n",
            "                                                                 \n",
            " conv1d_transpose_4 (Conv1DT  (None, 128, 64)          14400     \n",
            " ranspose)                                                       \n",
            "                                                                 \n",
            " conv1d_transpose_5 (Conv1DT  (None, 128, 1)           449       \n",
            " ranspose)                                                       \n",
            "                                                                 \n",
            "=================================================================\n",
            "Total params: 24,641\n",
            "Trainable params: 24,641\n",
            "Non-trainable params: 0\n",
            "_________________________________________________________________\n"
          ]
        }
      ]
    },
    {
      "cell_type": "code",
      "source": [
        "model.layers"
      ],
      "metadata": {
        "colab": {
          "base_uri": "https://localhost:8080/"
        },
        "id": "nVu5f08w9ScA",
        "outputId": "1195564a-f3a9-4431-a624-a0b1583c2ab1"
      },
      "execution_count": null,
      "outputs": [
        {
          "output_type": "execute_result",
          "data": {
            "text/plain": [
              "[<keras.layers.convolutional.conv1d.Conv1D at 0x7f53eae45790>,\n",
              " <keras.layers.convolutional.conv1d.Conv1D at 0x7f537d1aaad0>,\n",
              " <keras.layers.convolutional.conv1d_transpose.Conv1DTranspose at 0x7f537d336cd0>,\n",
              " <keras.layers.convolutional.conv1d_transpose.Conv1DTranspose at 0x7f537d1abb10>,\n",
              " <keras.layers.convolutional.conv1d_transpose.Conv1DTranspose at 0x7f537058be90>]"
            ]
          },
          "metadata": {},
          "execution_count": 18
        }
      ]
    },
    {
      "cell_type": "code",
      "source": [
        "\"\"\"\n",
        "import time\n",
        "import numpy as np\n",
        "import os\n",
        "from keras import layers, models, callbacks, regularizers, optimizers\n",
        "from keras.layers import advanced_activations\n",
        "\n",
        "\n",
        "# Create graph structure.\n",
        "input_placeholder = layers.Input(shape=[TIMESTEPS, num_inputs])\n",
        "# Encoder.\n",
        "encoded = layers.LSTM(64, return_sequences=True)(input_placeholder)\n",
        "encoded = advanced_activations.ELU(alpha=.5)(encoded)\n",
        "encoded = layers.LSTM(40)(encoded)\n",
        "encoded = advanced_activations.ELU(alpha=.5)(encoded)\n",
        "encoded = layers.Dense(3)(encoded)\n",
        "encoded = advanced_activations.ELU(alpha=.5)(encoded)\n",
        "encoded = layers.BatchNormalization(name='embedding')(encoded)\n",
        "# Decoder.\n",
        "decoded = layers.Dense(8)(encoded)\n",
        "decoded = advanced_activations.ELU(alpha=.5)(decoded)\n",
        "decoded = layers.Dense(16)(decoded)\n",
        "decoded = advanced_activations.ELU(alpha=.5)(decoded)\n",
        "decoded = layers.Dense(TIMESTEPS * num_inputs, activation='sigmoid')(decoded)\n",
        "decoded = layers.Reshape([TIMESTEPS, num_inputs])(decoded)\n",
        "\n",
        "encoder = models.Model(inputs=input_placeholder, outputs=encoded)\n",
        "autoencoder = models.Model(inputs=input_placeholder, outputs=decoded)\n",
        "print(autoencoder.summary())\n",
        "\"\"\""
      ],
      "metadata": {
        "id": "qJ_PYzbP9tAy"
      },
      "execution_count": null,
      "outputs": []
    },
    {
      "cell_type": "code",
      "source": [
        "import time\n",
        "import numpy as np\n",
        "import os\n",
        "from keras import layers, models, callbacks, regularizers, optimizers\n",
        "#from keras.layers import advanced_activations\n",
        "\n",
        "\n",
        "# Create graph structure.\n",
        "TIMESTEPS = train_data.shape[1]\n",
        "num_inputs = 1\n",
        "input_placeholder = layers.Input(shape=[TIMESTEPS, num_inputs])\n",
        "# Encoder.\n",
        "encoded = layers.LSTM(64, return_sequences=True)(input_placeholder)\n",
        "encoded = layers.ReLU()(encoded)#(alpha=.5)(encoded)\n",
        "encoded = layers.LSTM(40)(encoded)\n",
        "encoded = layers.ReLU()(encoded)#advanced_activations.ELU(alpha=.5)(encoded)\n",
        "encoded = layers.Dense(8)(encoded)\n",
        "encoded = layers.ReLU()(encoded)#advanced_activations.ELU(alpha=.5)(encoded)\n",
        "encoded = layers.BatchNormalization(name='embedding')(encoded)\n",
        "# Decoder.\n",
        "decoded = layers.Dense(16)(encoded)\n",
        "decoded = layers.ReLU()(decoded)#advanced_activations.ELU(alpha=.5)(decoded)\n",
        "decoded = layers.Dense(32)(decoded)\n",
        "decoded = layers.ReLU()(decoded)#advanced_activations.ELU(alpha=.5)(decoded)\n",
        "decoded = layers.Dense(TIMESTEPS * num_inputs, activation='sigmoid')(decoded)\n",
        "decoded = layers.Reshape([TIMESTEPS, num_inputs])(decoded)\n",
        "\n",
        "encoder = models.Model(inputs=input_placeholder, outputs=encoded)\n",
        "autoencoder = models.Model(inputs=input_placeholder, outputs=decoded)"
      ],
      "metadata": {
        "id": "AnYQ4pJtImI5"
      },
      "execution_count": null,
      "outputs": []
    },
    {
      "cell_type": "code",
      "source": [
        "autoencoder.summary()"
      ],
      "metadata": {
        "colab": {
          "base_uri": "https://localhost:8080/"
        },
        "id": "qxXjkq2tImN5",
        "outputId": "e5f81214-71c7-4c3f-db93-ffb21fc54c24"
      },
      "execution_count": null,
      "outputs": [
        {
          "output_type": "stream",
          "name": "stdout",
          "text": [
            "Model: \"model_1\"\n",
            "_________________________________________________________________\n",
            " Layer (type)                Output Shape              Param #   \n",
            "=================================================================\n",
            " input_1 (InputLayer)        [(None, 128, 1)]          0         \n",
            "                                                                 \n",
            " lstm (LSTM)                 (None, 128, 64)           16896     \n",
            "                                                                 \n",
            " re_lu (ReLU)                (None, 128, 64)           0         \n",
            "                                                                 \n",
            " lstm_1 (LSTM)               (None, 40)                16800     \n",
            "                                                                 \n",
            " re_lu_1 (ReLU)              (None, 40)                0         \n",
            "                                                                 \n",
            " dense (Dense)               (None, 8)                 328       \n",
            "                                                                 \n",
            " re_lu_2 (ReLU)              (None, 8)                 0         \n",
            "                                                                 \n",
            " embedding (BatchNormalizati  (None, 8)                32        \n",
            " on)                                                             \n",
            "                                                                 \n",
            " dense_1 (Dense)             (None, 16)                144       \n",
            "                                                                 \n",
            " re_lu_3 (ReLU)              (None, 16)                0         \n",
            "                                                                 \n",
            " dense_2 (Dense)             (None, 32)                544       \n",
            "                                                                 \n",
            " re_lu_4 (ReLU)              (None, 32)                0         \n",
            "                                                                 \n",
            " dense_3 (Dense)             (None, 128)               4224      \n",
            "                                                                 \n",
            " reshape (Reshape)           (None, 128, 1)            0         \n",
            "                                                                 \n",
            "=================================================================\n",
            "Total params: 38,968\n",
            "Trainable params: 38,952\n",
            "Non-trainable params: 16\n",
            "_________________________________________________________________\n"
          ]
        }
      ]
    },
    {
      "cell_type": "code",
      "source": [
        "run_id = \"1\"\n",
        "main_model_folder = 'saved_models'\n",
        "os.mkdir(f'{main_model_folder}/' + run_id)\n",
        "EPOCHS = 30\n",
        "BATCH_SIZE = 32"
      ],
      "metadata": {
        "id": "on3bB1Ifw6Mn"
      },
      "execution_count": null,
      "outputs": []
    },
    {
      "cell_type": "code",
      "source": [
        "with open(f'{main_model_folder}/' + run_id + '/model_structure.json', mode='w') as ofile:\n",
        "    ofile.write(autoencoder.to_json())\n",
        "\n",
        "print('Compiling model')\n",
        "opt = optimizers.RMSprop(lr=.0001)\n",
        "autoencoder.compile(optimizer=opt, loss='mse')\n",
        "\n",
        "autoencoder.fit(train_data, train_data,\n",
        "                batch_size=BATCH_SIZE,\n",
        "                epochs=EPOCHS,\n",
        "                validation_data=(test_data, test_data),\n",
        "                callbacks=[\n",
        "                    # callbacks.TensorBoard(log_dir='tf_logs/' + run_id),\n",
        "                    callbacks.ModelCheckpoint(f'{main_model_folder}/' + run_id +\n",
        "                                              '/epoch{epoch:02d}-loss{val_loss:.3f}.hdf5'),\n",
        "                    callbacks.ModelCheckpoint(f'{main_model_folder}/' + run_id + '/best.hdf5',\n",
        "                                              save_best_only=True),\n",
        "                ])"
      ],
      "metadata": {
        "id": "ZNpNb5rTtRPP",
        "colab": {
          "base_uri": "https://localhost:8080/",
          "height": 450
        },
        "outputId": "6a8e043d-353d-41ea-e9a4-e7fdba9fefbb"
      },
      "execution_count": null,
      "outputs": [
        {
          "output_type": "stream",
          "name": "stdout",
          "text": [
            "Compiling model\n"
          ]
        },
        {
          "output_type": "stream",
          "name": "stderr",
          "text": [
            "/usr/local/lib/python3.7/dist-packages/keras/optimizers/optimizer_v2/rmsprop.py:135: UserWarning: The `lr` argument is deprecated, use `learning_rate` instead.\n",
            "  super(RMSprop, self).__init__(name, **kwargs)\n"
          ]
        },
        {
          "output_type": "stream",
          "name": "stdout",
          "text": [
            "Epoch 1/30\n",
            "  414/13565 [..............................] - ETA: 25:30 - loss: 1.1829"
          ]
        },
        {
          "output_type": "error",
          "ename": "KeyboardInterrupt",
          "evalue": "ignored",
          "traceback": [
            "\u001b[0;31m---------------------------------------------------------------------------\u001b[0m",
            "\u001b[0;31mKeyboardInterrupt\u001b[0m                         Traceback (most recent call last)",
            "\u001b[0;32m<ipython-input-14-83c477582c8d>\u001b[0m in \u001b[0;36m<module>\u001b[0;34m\u001b[0m\n\u001b[1;32m     15\u001b[0m                                               '/epoch{epoch:02d}-loss{val_loss:.3f}.hdf5'),\n\u001b[1;32m     16\u001b[0m                     callbacks.ModelCheckpoint(f'{main_model_folder}/' + run_id + '/best.hdf5',\n\u001b[0;32m---> 17\u001b[0;31m                                               save_best_only=True),\n\u001b[0m\u001b[1;32m     18\u001b[0m                 ])\n",
            "\u001b[0;32m/usr/local/lib/python3.7/dist-packages/keras/utils/traceback_utils.py\u001b[0m in \u001b[0;36merror_handler\u001b[0;34m(*args, **kwargs)\u001b[0m\n\u001b[1;32m     62\u001b[0m     \u001b[0mfiltered_tb\u001b[0m \u001b[0;34m=\u001b[0m \u001b[0;32mNone\u001b[0m\u001b[0;34m\u001b[0m\u001b[0;34m\u001b[0m\u001b[0m\n\u001b[1;32m     63\u001b[0m     \u001b[0;32mtry\u001b[0m\u001b[0;34m:\u001b[0m\u001b[0;34m\u001b[0m\u001b[0;34m\u001b[0m\u001b[0m\n\u001b[0;32m---> 64\u001b[0;31m       \u001b[0;32mreturn\u001b[0m \u001b[0mfn\u001b[0m\u001b[0;34m(\u001b[0m\u001b[0;34m*\u001b[0m\u001b[0margs\u001b[0m\u001b[0;34m,\u001b[0m \u001b[0;34m**\u001b[0m\u001b[0mkwargs\u001b[0m\u001b[0;34m)\u001b[0m\u001b[0;34m\u001b[0m\u001b[0;34m\u001b[0m\u001b[0m\n\u001b[0m\u001b[1;32m     65\u001b[0m     \u001b[0;32mexcept\u001b[0m \u001b[0mException\u001b[0m \u001b[0;32mas\u001b[0m \u001b[0me\u001b[0m\u001b[0;34m:\u001b[0m  \u001b[0;31m# pylint: disable=broad-except\u001b[0m\u001b[0;34m\u001b[0m\u001b[0;34m\u001b[0m\u001b[0m\n\u001b[1;32m     66\u001b[0m       \u001b[0mfiltered_tb\u001b[0m \u001b[0;34m=\u001b[0m \u001b[0m_process_traceback_frames\u001b[0m\u001b[0;34m(\u001b[0m\u001b[0me\u001b[0m\u001b[0;34m.\u001b[0m\u001b[0m__traceback__\u001b[0m\u001b[0;34m)\u001b[0m\u001b[0;34m\u001b[0m\u001b[0;34m\u001b[0m\u001b[0m\n",
            "\u001b[0;32m/usr/local/lib/python3.7/dist-packages/keras/engine/training.py\u001b[0m in \u001b[0;36mfit\u001b[0;34m(self, x, y, batch_size, epochs, verbose, callbacks, validation_split, validation_data, shuffle, class_weight, sample_weight, initial_epoch, steps_per_epoch, validation_steps, validation_batch_size, validation_freq, max_queue_size, workers, use_multiprocessing)\u001b[0m\n\u001b[1;32m   1407\u001b[0m                 _r=1):\n\u001b[1;32m   1408\u001b[0m               \u001b[0mcallbacks\u001b[0m\u001b[0;34m.\u001b[0m\u001b[0mon_train_batch_begin\u001b[0m\u001b[0;34m(\u001b[0m\u001b[0mstep\u001b[0m\u001b[0;34m)\u001b[0m\u001b[0;34m\u001b[0m\u001b[0;34m\u001b[0m\u001b[0m\n\u001b[0;32m-> 1409\u001b[0;31m               \u001b[0mtmp_logs\u001b[0m \u001b[0;34m=\u001b[0m \u001b[0mself\u001b[0m\u001b[0;34m.\u001b[0m\u001b[0mtrain_function\u001b[0m\u001b[0;34m(\u001b[0m\u001b[0miterator\u001b[0m\u001b[0;34m)\u001b[0m\u001b[0;34m\u001b[0m\u001b[0;34m\u001b[0m\u001b[0m\n\u001b[0m\u001b[1;32m   1410\u001b[0m               \u001b[0;32mif\u001b[0m \u001b[0mdata_handler\u001b[0m\u001b[0;34m.\u001b[0m\u001b[0mshould_sync\u001b[0m\u001b[0;34m:\u001b[0m\u001b[0;34m\u001b[0m\u001b[0;34m\u001b[0m\u001b[0m\n\u001b[1;32m   1411\u001b[0m                 \u001b[0mcontext\u001b[0m\u001b[0;34m.\u001b[0m\u001b[0masync_wait\u001b[0m\u001b[0;34m(\u001b[0m\u001b[0;34m)\u001b[0m\u001b[0;34m\u001b[0m\u001b[0;34m\u001b[0m\u001b[0m\n",
            "\u001b[0;32m/usr/local/lib/python3.7/dist-packages/tensorflow/python/util/traceback_utils.py\u001b[0m in \u001b[0;36merror_handler\u001b[0;34m(*args, **kwargs)\u001b[0m\n\u001b[1;32m    148\u001b[0m     \u001b[0mfiltered_tb\u001b[0m \u001b[0;34m=\u001b[0m \u001b[0;32mNone\u001b[0m\u001b[0;34m\u001b[0m\u001b[0;34m\u001b[0m\u001b[0m\n\u001b[1;32m    149\u001b[0m     \u001b[0;32mtry\u001b[0m\u001b[0;34m:\u001b[0m\u001b[0;34m\u001b[0m\u001b[0;34m\u001b[0m\u001b[0m\n\u001b[0;32m--> 150\u001b[0;31m       \u001b[0;32mreturn\u001b[0m \u001b[0mfn\u001b[0m\u001b[0;34m(\u001b[0m\u001b[0;34m*\u001b[0m\u001b[0margs\u001b[0m\u001b[0;34m,\u001b[0m \u001b[0;34m**\u001b[0m\u001b[0mkwargs\u001b[0m\u001b[0;34m)\u001b[0m\u001b[0;34m\u001b[0m\u001b[0;34m\u001b[0m\u001b[0m\n\u001b[0m\u001b[1;32m    151\u001b[0m     \u001b[0;32mexcept\u001b[0m \u001b[0mException\u001b[0m \u001b[0;32mas\u001b[0m \u001b[0me\u001b[0m\u001b[0;34m:\u001b[0m\u001b[0;34m\u001b[0m\u001b[0;34m\u001b[0m\u001b[0m\n\u001b[1;32m    152\u001b[0m       \u001b[0mfiltered_tb\u001b[0m \u001b[0;34m=\u001b[0m \u001b[0m_process_traceback_frames\u001b[0m\u001b[0;34m(\u001b[0m\u001b[0me\u001b[0m\u001b[0;34m.\u001b[0m\u001b[0m__traceback__\u001b[0m\u001b[0;34m)\u001b[0m\u001b[0;34m\u001b[0m\u001b[0;34m\u001b[0m\u001b[0m\n",
            "\u001b[0;32m/usr/local/lib/python3.7/dist-packages/tensorflow/python/eager/def_function.py\u001b[0m in \u001b[0;36m__call__\u001b[0;34m(self, *args, **kwds)\u001b[0m\n\u001b[1;32m    913\u001b[0m \u001b[0;34m\u001b[0m\u001b[0m\n\u001b[1;32m    914\u001b[0m       \u001b[0;32mwith\u001b[0m \u001b[0mOptionalXlaContext\u001b[0m\u001b[0;34m(\u001b[0m\u001b[0mself\u001b[0m\u001b[0;34m.\u001b[0m\u001b[0m_jit_compile\u001b[0m\u001b[0;34m)\u001b[0m\u001b[0;34m:\u001b[0m\u001b[0;34m\u001b[0m\u001b[0;34m\u001b[0m\u001b[0m\n\u001b[0;32m--> 915\u001b[0;31m         \u001b[0mresult\u001b[0m \u001b[0;34m=\u001b[0m \u001b[0mself\u001b[0m\u001b[0;34m.\u001b[0m\u001b[0m_call\u001b[0m\u001b[0;34m(\u001b[0m\u001b[0;34m*\u001b[0m\u001b[0margs\u001b[0m\u001b[0;34m,\u001b[0m \u001b[0;34m**\u001b[0m\u001b[0mkwds\u001b[0m\u001b[0;34m)\u001b[0m\u001b[0;34m\u001b[0m\u001b[0;34m\u001b[0m\u001b[0m\n\u001b[0m\u001b[1;32m    916\u001b[0m \u001b[0;34m\u001b[0m\u001b[0m\n\u001b[1;32m    917\u001b[0m       \u001b[0mnew_tracing_count\u001b[0m \u001b[0;34m=\u001b[0m \u001b[0mself\u001b[0m\u001b[0;34m.\u001b[0m\u001b[0mexperimental_get_tracing_count\u001b[0m\u001b[0;34m(\u001b[0m\u001b[0;34m)\u001b[0m\u001b[0;34m\u001b[0m\u001b[0;34m\u001b[0m\u001b[0m\n",
            "\u001b[0;32m/usr/local/lib/python3.7/dist-packages/tensorflow/python/eager/def_function.py\u001b[0m in \u001b[0;36m_call\u001b[0;34m(self, *args, **kwds)\u001b[0m\n\u001b[1;32m    945\u001b[0m       \u001b[0;31m# In this case we have created variables on the first call, so we run the\u001b[0m\u001b[0;34m\u001b[0m\u001b[0;34m\u001b[0m\u001b[0;34m\u001b[0m\u001b[0m\n\u001b[1;32m    946\u001b[0m       \u001b[0;31m# defunned version which is guaranteed to never create variables.\u001b[0m\u001b[0;34m\u001b[0m\u001b[0;34m\u001b[0m\u001b[0;34m\u001b[0m\u001b[0m\n\u001b[0;32m--> 947\u001b[0;31m       \u001b[0;32mreturn\u001b[0m \u001b[0mself\u001b[0m\u001b[0;34m.\u001b[0m\u001b[0m_stateless_fn\u001b[0m\u001b[0;34m(\u001b[0m\u001b[0;34m*\u001b[0m\u001b[0margs\u001b[0m\u001b[0;34m,\u001b[0m \u001b[0;34m**\u001b[0m\u001b[0mkwds\u001b[0m\u001b[0;34m)\u001b[0m  \u001b[0;31m# pylint: disable=not-callable\u001b[0m\u001b[0;34m\u001b[0m\u001b[0;34m\u001b[0m\u001b[0m\n\u001b[0m\u001b[1;32m    948\u001b[0m     \u001b[0;32melif\u001b[0m \u001b[0mself\u001b[0m\u001b[0;34m.\u001b[0m\u001b[0m_stateful_fn\u001b[0m \u001b[0;32mis\u001b[0m \u001b[0;32mnot\u001b[0m \u001b[0;32mNone\u001b[0m\u001b[0;34m:\u001b[0m\u001b[0;34m\u001b[0m\u001b[0;34m\u001b[0m\u001b[0m\n\u001b[1;32m    949\u001b[0m       \u001b[0;31m# Release the lock early so that multiple threads can perform the call\u001b[0m\u001b[0;34m\u001b[0m\u001b[0;34m\u001b[0m\u001b[0;34m\u001b[0m\u001b[0m\n",
            "\u001b[0;32m/usr/local/lib/python3.7/dist-packages/tensorflow/python/eager/function.py\u001b[0m in \u001b[0;36m__call__\u001b[0;34m(self, *args, **kwargs)\u001b[0m\n\u001b[1;32m   2452\u001b[0m        filtered_flat_args) = self._maybe_define_function(args, kwargs)\n\u001b[1;32m   2453\u001b[0m     return graph_function._call_flat(\n\u001b[0;32m-> 2454\u001b[0;31m         filtered_flat_args, captured_inputs=graph_function.captured_inputs)  # pylint: disable=protected-access\n\u001b[0m\u001b[1;32m   2455\u001b[0m \u001b[0;34m\u001b[0m\u001b[0m\n\u001b[1;32m   2456\u001b[0m   \u001b[0;34m@\u001b[0m\u001b[0mproperty\u001b[0m\u001b[0;34m\u001b[0m\u001b[0;34m\u001b[0m\u001b[0m\n",
            "\u001b[0;32m/usr/local/lib/python3.7/dist-packages/tensorflow/python/eager/function.py\u001b[0m in \u001b[0;36m_call_flat\u001b[0;34m(self, args, captured_inputs, cancellation_manager)\u001b[0m\n\u001b[1;32m   1859\u001b[0m       \u001b[0;31m# No tape is watching; skip to running the function.\u001b[0m\u001b[0;34m\u001b[0m\u001b[0;34m\u001b[0m\u001b[0;34m\u001b[0m\u001b[0m\n\u001b[1;32m   1860\u001b[0m       return self._build_call_outputs(self._inference_function.call(\n\u001b[0;32m-> 1861\u001b[0;31m           ctx, args, cancellation_manager=cancellation_manager))\n\u001b[0m\u001b[1;32m   1862\u001b[0m     forward_backward = self._select_forward_and_backward_functions(\n\u001b[1;32m   1863\u001b[0m         \u001b[0margs\u001b[0m\u001b[0;34m,\u001b[0m\u001b[0;34m\u001b[0m\u001b[0;34m\u001b[0m\u001b[0m\n",
            "\u001b[0;32m/usr/local/lib/python3.7/dist-packages/tensorflow/python/eager/function.py\u001b[0m in \u001b[0;36mcall\u001b[0;34m(self, ctx, args, cancellation_manager)\u001b[0m\n\u001b[1;32m    500\u001b[0m               \u001b[0minputs\u001b[0m\u001b[0;34m=\u001b[0m\u001b[0margs\u001b[0m\u001b[0;34m,\u001b[0m\u001b[0;34m\u001b[0m\u001b[0;34m\u001b[0m\u001b[0m\n\u001b[1;32m    501\u001b[0m               \u001b[0mattrs\u001b[0m\u001b[0;34m=\u001b[0m\u001b[0mattrs\u001b[0m\u001b[0;34m,\u001b[0m\u001b[0;34m\u001b[0m\u001b[0;34m\u001b[0m\u001b[0m\n\u001b[0;32m--> 502\u001b[0;31m               ctx=ctx)\n\u001b[0m\u001b[1;32m    503\u001b[0m         \u001b[0;32melse\u001b[0m\u001b[0;34m:\u001b[0m\u001b[0;34m\u001b[0m\u001b[0;34m\u001b[0m\u001b[0m\n\u001b[1;32m    504\u001b[0m           outputs = execute.execute_with_cancellation(\n",
            "\u001b[0;32m/usr/local/lib/python3.7/dist-packages/tensorflow/python/eager/execute.py\u001b[0m in \u001b[0;36mquick_execute\u001b[0;34m(op_name, num_outputs, inputs, attrs, ctx, name)\u001b[0m\n\u001b[1;32m     53\u001b[0m     \u001b[0mctx\u001b[0m\u001b[0;34m.\u001b[0m\u001b[0mensure_initialized\u001b[0m\u001b[0;34m(\u001b[0m\u001b[0;34m)\u001b[0m\u001b[0;34m\u001b[0m\u001b[0;34m\u001b[0m\u001b[0m\n\u001b[1;32m     54\u001b[0m     tensors = pywrap_tfe.TFE_Py_Execute(ctx._handle, device_name, op_name,\n\u001b[0;32m---> 55\u001b[0;31m                                         inputs, attrs, num_outputs)\n\u001b[0m\u001b[1;32m     56\u001b[0m   \u001b[0;32mexcept\u001b[0m \u001b[0mcore\u001b[0m\u001b[0;34m.\u001b[0m\u001b[0m_NotOkStatusException\u001b[0m \u001b[0;32mas\u001b[0m \u001b[0me\u001b[0m\u001b[0;34m:\u001b[0m\u001b[0;34m\u001b[0m\u001b[0;34m\u001b[0m\u001b[0m\n\u001b[1;32m     57\u001b[0m     \u001b[0;32mif\u001b[0m \u001b[0mname\u001b[0m \u001b[0;32mis\u001b[0m \u001b[0;32mnot\u001b[0m \u001b[0;32mNone\u001b[0m\u001b[0;34m:\u001b[0m\u001b[0;34m\u001b[0m\u001b[0;34m\u001b[0m\u001b[0m\n",
            "\u001b[0;31mKeyboardInterrupt\u001b[0m: "
          ]
        }
      ]
    },
    {
      "cell_type": "code",
      "source": [
        "import time\n",
        "import numpy as np\n",
        "import os\n",
        "from keras import layers, models, callbacks, regularizers, optimizers\n",
        "#from keras.layers import advanced_activations\n",
        "\n",
        "\n",
        "# Create graph structure.\n",
        "TIMESTEPS = train_data.shape[1]\n",
        "num_inputs = 1\n",
        "input_placeholder = layers.Input(shape=[TIMESTEPS, num_inputs])\n",
        "# Encoder.\n",
        "encoded = layers.Conv1D(64, kernel_size=5, padding=\"same\", activation='relu')(input_placeholder)\n",
        "encoded = layers.MaxPool1D(2)(encoded)\n",
        "encoded = layers.Conv1D(\n",
        "            filters=32, kernel_size=5, padding=\"same\", activation='relu')(encoded)\n",
        "encoded = layers.MaxPool1D(2)(encoded)\n",
        "encoded = layers.Dense(1, activation='relu')(encoded)\n",
        "encoded = layers.BatchNormalization(name='embedding')(encoded)\n",
        "# Decoder.\n",
        "#decoded = layers.UpSampling1D(2)(encoded)\n",
        "decoder = layers.Conv1DTranspose(32, kernel_size=5, padding=\"same\", activation='relu')(encoded)\n",
        "decoded = layers.UpSampling1D(2)(decoder)\n",
        "decoded = layers.Conv1DTranspose(64, kernel_size=5, padding=\"same\", activation=\"relu\")(decoded)\n",
        "decoded = layers.UpSampling1D(2)(decoded)\n",
        "#decoded = layers.Conv1DTranspose(2, kernel_size=5, padding=\"same\", strides=2, activation=\"relu\")(decoded)\n",
        "decoded = layers.Conv1DTranspose(filters=1, kernel_size=5, padding=\"same\")(decoded)\n",
        "\n",
        "encoder = models.Model(inputs=input_placeholder, outputs=encoded)\n",
        "autoencoder = models.Model(inputs=input_placeholder, outputs=decoded)"
      ],
      "metadata": {
        "id": "70xNZrj1yT7U"
      },
      "execution_count": null,
      "outputs": []
    },
    {
      "cell_type": "code",
      "source": [
        "autoencoder.summary()"
      ],
      "metadata": {
        "colab": {
          "base_uri": "https://localhost:8080/"
        },
        "id": "b_kCPJps1d9-",
        "outputId": "d302ae40-97ae-41a6-a3d9-063044061187"
      },
      "execution_count": null,
      "outputs": [
        {
          "output_type": "stream",
          "name": "stdout",
          "text": [
            "Model: \"model_46\"\n",
            "_________________________________________________________________\n",
            " Layer (type)                Output Shape              Param #   \n",
            "=================================================================\n",
            " input_23 (InputLayer)       [(None, 128, 1)]          0         \n",
            "                                                                 \n",
            " conv1d_44 (Conv1D)          (None, 128, 64)           384       \n",
            "                                                                 \n",
            " max_pooling1d_44 (MaxPoolin  (None, 64, 64)           0         \n",
            " g1D)                                                            \n",
            "                                                                 \n",
            " conv1d_45 (Conv1D)          (None, 64, 32)            10272     \n",
            "                                                                 \n",
            " max_pooling1d_45 (MaxPoolin  (None, 32, 32)           0         \n",
            " g1D)                                                            \n",
            "                                                                 \n",
            " dense_22 (Dense)            (None, 32, 1)             33        \n",
            "                                                                 \n",
            " embedding (BatchNormalizati  (None, 32, 1)            4         \n",
            " on)                                                             \n",
            "                                                                 \n",
            " conv1d_transpose_41 (Conv1D  (None, 32, 32)           192       \n",
            " Transpose)                                                      \n",
            "                                                                 \n",
            " up_sampling1d_29 (UpSamplin  (None, 64, 32)           0         \n",
            " g1D)                                                            \n",
            "                                                                 \n",
            " conv1d_transpose_42 (Conv1D  (None, 64, 64)           10304     \n",
            " Transpose)                                                      \n",
            "                                                                 \n",
            " up_sampling1d_30 (UpSamplin  (None, 128, 64)          0         \n",
            " g1D)                                                            \n",
            "                                                                 \n",
            " conv1d_transpose_43 (Conv1D  (None, 128, 1)           321       \n",
            " Transpose)                                                      \n",
            "                                                                 \n",
            "=================================================================\n",
            "Total params: 21,510\n",
            "Trainable params: 21,508\n",
            "Non-trainable params: 2\n",
            "_________________________________________________________________\n"
          ]
        }
      ]
    },
    {
      "cell_type": "code",
      "source": [
        "run_id = \"3\"\n",
        "main_model_folder = 'saved_models'\n",
        "os.mkdir(f'{main_model_folder}/' + run_id)\n",
        "EPOCHS = 50\n",
        "BATCH_SIZE = 32"
      ],
      "metadata": {
        "id": "LsXyl7Vf5AB4"
      },
      "execution_count": null,
      "outputs": []
    },
    {
      "cell_type": "code",
      "source": [
        "with open(f'{main_model_folder}/' + run_id + '/model_structure.json', mode='w') as ofile:\n",
        "    ofile.write(autoencoder.to_json())\n",
        "\n",
        "print('Compiling model')\n",
        "opt = optimizers.Adam(lr=.0001)\n",
        "autoencoder.compile(optimizer=opt, loss='mse')\n",
        "\n",
        "history = autoencoder.fit(train_data, train_data,\n",
        "                batch_size=BATCH_SIZE,\n",
        "                epochs=EPOCHS,\n",
        "                validation_data=(test_data, test_data),\n",
        "                callbacks=[\n",
        "                    # callbacks.TensorBoard(log_dir='tf_logs/' + run_id),\n",
        "                    callbacks.ModelCheckpoint(f'{main_model_folder}/' + run_id +\n",
        "                                              '/epoch{epoch:02d}-loss{val_loss:.3f}.hdf5'),\n",
        "                    callbacks.ModelCheckpoint(f'{main_model_folder}/' + run_id + '/best.hdf5',\n",
        "                                              save_best_only=True),\n",
        "                ])"
      ],
      "metadata": {
        "colab": {
          "base_uri": "https://localhost:8080/"
        },
        "id": "r3KRb9jwYezt",
        "outputId": "41887af2-d730-4ca0-cba4-5c2270af886c"
      },
      "execution_count": null,
      "outputs": [
        {
          "output_type": "stream",
          "name": "stdout",
          "text": [
            "Compiling model\n"
          ]
        },
        {
          "output_type": "stream",
          "name": "stderr",
          "text": [
            "/usr/local/lib/python3.7/dist-packages/keras/optimizers/optimizer_v2/adam.py:110: UserWarning: The `lr` argument is deprecated, use `learning_rate` instead.\n",
            "  super(Adam, self).__init__(name, **kwargs)\n"
          ]
        },
        {
          "output_type": "stream",
          "name": "stdout",
          "text": [
            "Epoch 1/50\n",
            "13565/13565 [==============================] - 100s 7ms/step - loss: 0.0938 - val_loss: 0.0403\n",
            "Epoch 2/50\n",
            "13565/13565 [==============================] - 98s 7ms/step - loss: 0.0775 - val_loss: 0.0274\n",
            "Epoch 3/50\n",
            "13565/13565 [==============================] - 98s 7ms/step - loss: 0.0711 - val_loss: 0.0262\n",
            "Epoch 4/50\n",
            "13565/13565 [==============================] - 99s 7ms/step - loss: 0.0677 - val_loss: 0.0285\n",
            "Epoch 5/50\n",
            "13565/13565 [==============================] - 98s 7ms/step - loss: 0.0657 - val_loss: 0.0373\n",
            "Epoch 6/50\n",
            "13565/13565 [==============================] - 98s 7ms/step - loss: 0.0646 - val_loss: 0.0261\n",
            "Epoch 7/50\n",
            "13565/13565 [==============================] - 97s 7ms/step - loss: 0.0640 - val_loss: 0.0280\n",
            "Epoch 8/50\n",
            "13565/13565 [==============================] - 97s 7ms/step - loss: 0.0635 - val_loss: 0.0397\n",
            "Epoch 9/50\n",
            "13565/13565 [==============================] - 98s 7ms/step - loss: 0.0630 - val_loss: 0.0331\n",
            "Epoch 10/50\n",
            "13565/13565 [==============================] - 98s 7ms/step - loss: 0.0626 - val_loss: 0.0263\n",
            "Epoch 11/50\n",
            "13565/13565 [==============================] - 98s 7ms/step - loss: 0.0625 - val_loss: 0.0252\n",
            "Epoch 12/50\n",
            "13565/13565 [==============================] - 98s 7ms/step - loss: 0.0623 - val_loss: 0.0275\n",
            "Epoch 13/50\n",
            "13565/13565 [==============================] - 97s 7ms/step - loss: 0.0622 - val_loss: 0.0530\n",
            "Epoch 14/50\n",
            "13565/13565 [==============================] - 97s 7ms/step - loss: 0.0619 - val_loss: 0.0524\n",
            "Epoch 15/50\n",
            "13565/13565 [==============================] - 98s 7ms/step - loss: 0.0620 - val_loss: 0.0326\n",
            "Epoch 16/50\n",
            "13565/13565 [==============================] - 97s 7ms/step - loss: 0.0617 - val_loss: 0.0255\n",
            "Epoch 17/50\n",
            "13565/13565 [==============================] - 97s 7ms/step - loss: 0.0615 - val_loss: 0.0252\n",
            "Epoch 18/50\n",
            "13565/13565 [==============================] - 97s 7ms/step - loss: 0.0610 - val_loss: 0.0308\n",
            "Epoch 19/50\n",
            "13565/13565 [==============================] - 97s 7ms/step - loss: 0.0614 - val_loss: 0.0347\n",
            "Epoch 20/50\n",
            "13565/13565 [==============================] - 97s 7ms/step - loss: 0.0611 - val_loss: 0.0289\n",
            "Epoch 21/50\n",
            "13565/13565 [==============================] - 97s 7ms/step - loss: 0.0609 - val_loss: 0.0263\n",
            "Epoch 22/50\n",
            "13565/13565 [==============================] - 97s 7ms/step - loss: 0.0612 - val_loss: 0.0353\n",
            "Epoch 23/50\n",
            "13565/13565 [==============================] - 98s 7ms/step - loss: 0.0607 - val_loss: 0.0253\n",
            "Epoch 24/50\n",
            "13565/13565 [==============================] - 97s 7ms/step - loss: 0.0604 - val_loss: 0.0252\n",
            "Epoch 25/50\n",
            "13565/13565 [==============================] - 97s 7ms/step - loss: 0.0604 - val_loss: 0.0253\n",
            "Epoch 26/50\n",
            "13565/13565 [==============================] - 96s 7ms/step - loss: 0.0607 - val_loss: 0.0454\n",
            "Epoch 27/50\n",
            "13565/13565 [==============================] - 96s 7ms/step - loss: 0.0603 - val_loss: 0.0374\n",
            "Epoch 28/50\n",
            "13565/13565 [==============================] - 96s 7ms/step - loss: 0.0606 - val_loss: 0.0280\n",
            "Epoch 29/50\n",
            "13565/13565 [==============================] - 95s 7ms/step - loss: 0.0601 - val_loss: 0.0326\n",
            "Epoch 30/50\n",
            "13565/13565 [==============================] - 96s 7ms/step - loss: 0.0605 - val_loss: 0.0322\n",
            "Epoch 31/50\n",
            "13565/13565 [==============================] - 96s 7ms/step - loss: 0.0605 - val_loss: 0.0275\n",
            "Epoch 32/50\n",
            "13565/13565 [==============================] - 96s 7ms/step - loss: 0.0601 - val_loss: 0.0279\n",
            "Epoch 33/50\n",
            "13565/13565 [==============================] - 96s 7ms/step - loss: 0.0600 - val_loss: 0.0283\n",
            "Epoch 34/50\n",
            "13565/13565 [==============================] - 96s 7ms/step - loss: 0.0601 - val_loss: 0.0478\n",
            "Epoch 35/50\n",
            "13565/13565 [==============================] - 96s 7ms/step - loss: 0.0600 - val_loss: 0.0270\n",
            "Epoch 36/50\n",
            "13565/13565 [==============================] - 96s 7ms/step - loss: 0.0602 - val_loss: 0.0378\n",
            "Epoch 37/50\n",
            "13565/13565 [==============================] - 96s 7ms/step - loss: 0.0597 - val_loss: 0.0358\n",
            "Epoch 38/50\n",
            "13565/13565 [==============================] - 96s 7ms/step - loss: 0.0599 - val_loss: 0.0494\n",
            "Epoch 39/50\n",
            "13565/13565 [==============================] - 95s 7ms/step - loss: 0.0598 - val_loss: 0.0297\n",
            "Epoch 40/50\n",
            "13565/13565 [==============================] - 97s 7ms/step - loss: 0.0600 - val_loss: 0.0969\n",
            "Epoch 41/50\n",
            "13565/13565 [==============================] - 97s 7ms/step - loss: 0.0595 - val_loss: 0.0399\n",
            "Epoch 42/50\n",
            "13565/13565 [==============================] - 96s 7ms/step - loss: 0.0598 - val_loss: 0.0257\n",
            "Epoch 43/50\n",
            "13565/13565 [==============================] - 95s 7ms/step - loss: 0.0594 - val_loss: 0.0654\n",
            "Epoch 44/50\n",
            "13565/13565 [==============================] - 96s 7ms/step - loss: 0.0591 - val_loss: 0.0328\n",
            "Epoch 45/50\n",
            "13565/13565 [==============================] - 94s 7ms/step - loss: 0.0597 - val_loss: 0.0260\n",
            "Epoch 46/50\n",
            "13565/13565 [==============================] - 96s 7ms/step - loss: 0.0595 - val_loss: 0.0522\n",
            "Epoch 47/50\n",
            "13565/13565 [==============================] - 96s 7ms/step - loss: 0.0594 - val_loss: 0.0274\n",
            "Epoch 48/50\n",
            "13565/13565 [==============================] - 96s 7ms/step - loss: 0.0597 - val_loss: 0.0279\n",
            "Epoch 49/50\n",
            "13565/13565 [==============================] - 96s 7ms/step - loss: 0.0593 - val_loss: 0.0317\n",
            "Epoch 50/50\n",
            "13565/13565 [==============================] - 96s 7ms/step - loss: 0.0592 - val_loss: 0.0279\n"
          ]
        }
      ]
    },
    {
      "cell_type": "code",
      "source": [
        "import matplotlib.pyplot as plt\n",
        "\n",
        "f, ax = plt.subplots(1, 1, figsize=(15, 10))\n",
        "ax.plot(history.history[\"loss\"], label=\"Training Loss\")\n",
        "plt.plot(history.history[\"val_loss\"], label=\"Validation Loss\")\n",
        "plt.title(\"Loss\")\n",
        "plt.legend()\n",
        "plt.show()"
      ],
      "metadata": {
        "colab": {
          "base_uri": "https://localhost:8080/",
          "height": 607
        },
        "id": "_Bw0Wh2gYoxB",
        "outputId": "937a20d7-8fd2-47b3-c734-a35373092a99"
      },
      "execution_count": null,
      "outputs": [
        {
          "output_type": "display_data",
          "data": {
            "text/plain": [
              "<Figure size 1080x720 with 1 Axes>"
            ],
            "image/png": "[encoded data removed]"
          },
          "metadata": {
            "needs_background": "light"
          }
        }
      ]
    },
    {
      "cell_type": "code",
      "source": [
        "# Load a trained model and extract embeddings by feeding sequences through the net and saving the\n",
        "# activations of the embedding layer.\n",
        "import numpy as np\n",
        "import pandas as pd\n",
        "from keras import models\n",
        "from keras import backend as K\n",
        "\n",
        "BATCH_SIZE = 128\n",
        "RUN_ID = '2'\n",
        "MODEL_FILE = 'best.hdf5'\n",
        "TIMESTEPS = 20\n",
        "\n",
        "\n",
        "K.set_learning_phase(0)  # Set to test mode (vs. train; necessary for loading some models).\n",
        "\n",
        "print('Loading model')\n",
        "# Have to load structure and weights separately due to Keras issue (see #5916 on GitHub).\n",
        "with open(f\"{main_model_folder}/\" + RUN_ID + '/model_structure.json') as ifile:\n",
        "    autoencoder = models.model_from_json(ifile.read())\n",
        "autoencoder.load_weights(f\"{main_model_folder}/\" + RUN_ID + '/' + MODEL_FILE)\n",
        "\n",
        "embedding_layer = [l for l in autoencoder.layers if l.name == 'embedding'][0]\n",
        "# This seems a strange way to make the encoder but it works great.\n",
        "encoder = K.function(inputs=[autoencoder.layers[0].input], outputs=[embedding_layer.output])\n"
      ],
      "metadata": {
        "colab": {
          "base_uri": "https://localhost:8080/"
        },
        "id": "ppTVKuJXj5Ge",
        "outputId": "17ea585b-4dc8-422e-b67b-aa525fb1ba9a"
      },
      "execution_count": null,
      "outputs": [
        {
          "output_type": "stream",
          "name": "stderr",
          "text": [
            "/usr/local/lib/python3.7/dist-packages/keras/backend.py:450: UserWarning: `tf.keras.backend.set_learning_phase` is deprecated and will be removed after 2020-10-11. To update it, simply pass a True/False value to the `training` argument of the `__call__` method of your layer or model.\n",
            "  warnings.warn('`tf.keras.backend.set_learning_phase` is deprecated and '\n"
          ]
        },
        {
          "output_type": "stream",
          "name": "stdout",
          "text": [
            "Loading model\n"
          ]
        }
      ]
    },
    {
      "cell_type": "code",
      "source": [
        "#encoder(test_data[0])"
      ],
      "metadata": {
        "colab": {
          "base_uri": "https://localhost:8080/"
        },
        "id": "W-FmhfewkhOA",
        "outputId": "dc0693f5-5419-4309-bf6b-b59860d2f2d8"
      },
      "execution_count": null,
      "outputs": [
        {
          "output_type": "execute_result",
          "data": {
            "text/plain": [
              "[array([], shape=(128, 0, 1), dtype=float32)]"
            ]
          },
          "metadata": {},
          "execution_count": 20
        }
      ]
    },
    {
      "cell_type": "code",
      "source": [
        "encoder(train_data[0])"
      ],
      "metadata": {
        "colab": {
          "base_uri": "https://localhost:8080/"
        },
        "id": "qG42Bmixkjry",
        "outputId": "dd0461b5-8c1a-4f4b-d629-a54bf7c9fb43"
      },
      "execution_count": null,
      "outputs": [
        {
          "output_type": "execute_result",
          "data": {
            "text/plain": [
              "[array([], shape=(128, 0, 1), dtype=float32)]"
            ]
          },
          "metadata": {},
          "execution_count": 23
        }
      ]
    },
    {
      "cell_type": "code",
      "source": [
        "predictions = encoder(test_data)"
      ],
      "metadata": {
        "id": "huXpNVdwk1Es"
      },
      "execution_count": null,
      "outputs": []
    },
    {
      "cell_type": "code",
      "source": [
        "from sklearn.decomposition import PCA\n",
        "\n",
        "shape = predictions[0].shape\n",
        "predictions = predictions[0].reshape(shape[0], shape[1])\n",
        "pca = PCA(n_components=2)\n",
        "pca.fit(predictions)"
      ],
      "metadata": {
        "colab": {
          "base_uri": "https://localhost:8080/"
        },
        "id": "3uNL_Cd2lG2K",
        "outputId": "b0e49d1b-bc23-45b6-ba1d-b17cda5e2b96"
      },
      "execution_count": null,
      "outputs": [
        {
          "output_type": "execute_result",
          "data": {
            "text/plain": [
              "PCA(n_components=2)"
            ]
          },
          "metadata": {},
          "execution_count": 44
        }
      ]
    },
    {
      "cell_type": "code",
      "source": [
        "pca_predictions = pca.transform(predictions)"
      ],
      "metadata": {
        "id": "nO91uvjNl_8z"
      },
      "execution_count": null,
      "outputs": []
    },
    {
      "cell_type": "code",
      "source": [
        "len(predictions)"
      ],
      "metadata": {
        "colab": {
          "base_uri": "https://localhost:8080/"
        },
        "id": "cjx8F70emDH5",
        "outputId": "1a09d9d4-30c8-4011-e875-86cf117a2a04"
      },
      "execution_count": null,
      "outputs": [
        {
          "output_type": "execute_result",
          "data": {
            "text/plain": [
              "16213"
            ]
          },
          "metadata": {},
          "execution_count": 52
        }
      ]
    },
    {
      "cell_type": "code",
      "source": [
        "pca_predictions[0]"
      ],
      "metadata": {
        "colab": {
          "base_uri": "https://localhost:8080/"
        },
        "id": "StFiSjQhoCG4",
        "outputId": "c6067b3c-335d-475c-c631-f11eaf8ff4df"
      },
      "execution_count": null,
      "outputs": [
        {
          "output_type": "execute_result",
          "data": {
            "text/plain": [
              "array([-1.1429646,  0.9060865], dtype=float32)"
            ]
          },
          "metadata": {},
          "execution_count": 55
        }
      ]
    },
    {
      "cell_type": "code",
      "source": [
        "plt.plot(pca_predictions, '*')"
      ],
      "metadata": {
        "colab": {
          "base_uri": "https://localhost:8080/",
          "height": 304
        },
        "id": "mT0DYzRzmVFj",
        "outputId": "2d5e9757-29ed-43ff-b705-4b238bf4d6c1"
      },
      "execution_count": null,
      "outputs": [
        {
          "output_type": "execute_result",
          "data": {
            "text/plain": [
              "[<matplotlib.lines.Line2D at 0x7f13645e1d10>,\n",
              " <matplotlib.lines.Line2D at 0x7f13645e1fd0>]"
            ]
          },
          "metadata": {},
          "execution_count": 57
        },
        {
          "output_type": "display_data",
          "data": {
            "text/plain": [
              "<Figure size 432x288 with 1 Axes>"
            ],
            "image/png": "[encoded data removed]"
          },
          "metadata": {
            "needs_background": "light"
          }
        }
      ]
    },
    {
      "cell_type": "code",
      "source": [
        "s = test_data.shape\n",
        "test_data_reshaped = test_data.reshape(s[0], s[1])\n",
        "new_testing_data = pd.DataFrame(test_data_reshaped)"
      ],
      "metadata": {
        "id": "oH645X5HmZJN"
      },
      "execution_count": null,
      "outputs": []
    },
    {
      "cell_type": "code",
      "source": [
        "new_testing_data.to_csv(\"testing_data_joined.csv\", index=False)"
      ],
      "metadata": {
        "id": "l5-QFkckum7R"
      },
      "execution_count": null,
      "outputs": []
    },
    {
      "cell_type": "code",
      "source": [
        "testing_names_df = pd.DataFrame(test_data_names, columns=['names'])"
      ],
      "metadata": {
        "id": "Xspq3CgMxaI5"
      },
      "execution_count": null,
      "outputs": []
    },
    {
      "cell_type": "code",
      "source": [
        "partial_data_name_list = set(train_name_list) ^ set(test_name_list)\n",
        "testing_names_df['partial_data_names'] = testing_names_df['names'].apply(lambda x: 1 if x in partial_data_name_list else 0)"
      ],
      "metadata": {
        "id": "bdj7CkyixvnY"
      },
      "execution_count": null,
      "outputs": []
    },
    {
      "cell_type": "code",
      "source": [
        "testing_names_df.to_csv(\"testing_names.csv\")"
      ],
      "metadata": {
        "id": "-uo7FlEJxz0V"
      },
      "execution_count": null,
      "outputs": []
    },
    {
      "cell_type": "code",
      "source": [
        "#read target data for test set \n",
        "\n"
      ],
      "metadata": {
        "colab": {
          "base_uri": "https://localhost:8080/"
        },
        "id": "kQ44G0dJya2Z",
        "outputId": "492fa2ec-90b8-4824-8b95-5c6404dca1f9"
      },
      "execution_count": null,
      "outputs": [
        {
          "output_type": "execute_result",
          "data": {
            "text/plain": [
              "1"
            ]
          },
          "metadata": {},
          "execution_count": 127
        }
      ]
    },
    {
      "cell_type": "code",
      "source": [],
      "metadata": {
        "id": "uDDFvk-RTNoB"
      },
      "execution_count": null,
      "outputs": []
    }
  ],
  "metadata": {
    "accelerator": "GPU",
    "colab": {
      "provenance": [],
      "authorship_tag": "ABX9TyOBxLNPllXg58m9TbvvsqNq",
      "include_colab_link": true
    },
    "gpuClass": "standard",
    "kernelspec": {
      "display_name": "Python 3",
      "name": "python3"
    },
    "language_info": {
      "name": "python"
    }
  },
  "nbformat": 4,
  "nbformat_minor": 0
}